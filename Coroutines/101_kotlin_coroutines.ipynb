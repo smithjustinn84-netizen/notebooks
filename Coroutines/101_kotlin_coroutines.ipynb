{
 "cells": [
  {
   "metadata": {},
   "cell_type": "markdown",
   "source": [
    "# Kotlin Coroutines 101\n",
    "\n",
    "This notebook sets up kotlinx-coroutines and runs a tiny check to confirm everything is wired correctly.\n"
   ]
  },
  {
   "metadata": {
    "ExecuteTime": {
     "end_time": "2025-09-27T22:37:50.591419Z",
     "start_time": "2025-09-27T22:37:50.307144Z"
    }
   },
   "cell_type": "code",
   "source": "@file:DependsOn(\"org.jetbrains.kotlinx:kotlinx-coroutines-core:1.8.1\")\n",
   "outputs": [],
   "execution_count": 1
  },
  {
   "metadata": {},
   "cell_type": "markdown",
   "source": [
    "## Import kotlinx.coroutines\n",
    "We import the core package so that delay, launch, async, etc. are available.\n"
   ]
  },
  {
   "metadata": {
    "ExecuteTime": {
     "end_time": "2025-09-27T22:37:50.648955Z",
     "start_time": "2025-09-27T22:37:50.616524Z"
    }
   },
   "cell_type": "code",
   "source": "import kotlinx.coroutines.*\n",
   "outputs": [],
   "execution_count": 2
  },
  {
   "metadata": {},
   "cell_type": "markdown",
   "source": [
    "## Quick sanity check\n",
    "Run a tiny coroutine to verify the dependency is loaded and usable.\n"
   ]
  },
  {
   "metadata": {
    "ExecuteTime": {
     "end_time": "2025-09-27T22:37:50.969812Z",
     "start_time": "2025-09-27T22:37:50.654614Z"
    }
   },
   "cell_type": "code",
   "source": [
    "runBlocking {\n",
    "    val job = launch {\n",
    "        delay(100)\n",
    "        println(\"Coroutines are ready!\")\n",
    "    }\n",
    "    job.join()\n",
    "}\n"
   ],
   "outputs": [
    {
     "name": "stdout",
     "output_type": "stream",
     "text": [
      "Coroutines are ready!\n"
     ]
    }
   ],
   "execution_count": 3
  },
  {
   "metadata": {},
   "cell_type": "code",
   "outputs": [],
   "execution_count": null,
   "source": ""
  }
 ],
 "metadata": {
  "kernelspec": {
   "display_name": "Kotlin",
   "language": "kotlin",
   "name": "kotlin"
  },
  "language_info": {
   "name": "kotlin",
   "version": "2.2.20-Beta2",
   "mimetype": "text/x-kotlin",
   "file_extension": ".kt",
   "pygments_lexer": "kotlin",
   "codemirror_mode": "text/x-kotlin",
   "nbconvert_exporter": ""
  }
 },
 "nbformat": 4,
 "nbformat_minor": 0
}
