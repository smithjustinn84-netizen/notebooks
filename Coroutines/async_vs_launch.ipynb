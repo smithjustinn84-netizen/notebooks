{
 "cells": [
  {
   "metadata": {},
   "cell_type": "markdown",
   "source": [
    "# Kotlin Coroutines: launch vs async\n",
    "\n",
    "A quick reference table highlighting the practical differences between the two coroutine builders.\n"
   ]
  },
  {
   "metadata": {
    "ExecuteTime": {
     "end_time": "2025-09-28T01:33:51.076474Z",
     "start_time": "2025-09-28T01:33:50.997998Z"
    }
   },
   "cell_type": "code",
   "source": "@file:DependsOn(\"org.jetbrains.kotlinx:kotlinx-coroutines-core:1.8.1\")\n",
   "outputs": [],
   "execution_count": 4
  },
  {
   "metadata": {},
   "cell_type": "markdown",
   "source": [
    "## Imports\n",
    "\n",
    "We import the core coroutines package so that launch, async, Job, Deferred, etc. are available.\n"
   ]
  },
  {
   "metadata": {
    "ExecuteTime": {
     "end_time": "2025-09-28T01:33:51.105184Z",
     "start_time": "2025-09-28T01:33:51.080639Z"
    }
   },
   "cell_type": "code",
   "source": "import kotlinx.coroutines.*\n",
   "outputs": [],
   "execution_count": 5
  },
  {
   "metadata": {},
   "cell_type": "markdown",
   "source": [
    "## launch vs async — cheat sheet\n",
    "\n",
    "| Aspect | launch | async |\n",
    "|---|---|---|\n",
    "| Return type | Job | Deferred<T> (also a Job) |\n",
    "| Primary intent | Fire-and-forget work tied to a scope | Concurrently produce a value (future/promise) |\n",
    "| How to wait | job.join() (does not throw the exception) | deferred.await() (returns T or throws) |\n",
    "| How to get result | No direct result | await() to get T |\n",
    "| Exception propagation | Unhandled exception is immediately propagated to the parent and handled by CoroutineExceptionHandler | Exception is captured and rethrown on await(); if never awaited, it still cancels the parent (unless using supervisor) but won’t trigger CoroutineExceptionHandler by itself |\n",
    "| Try/catch location | Wrap the body of launch or use a CoroutineExceptionHandler | Surround await() with try/catch, or use supervisor constructs |\n",
    "| Structured concurrency | Child is tied to its parent scope; parent waits for job completion on cancellation | Same; Deferred is also a child tied to its parent scope |\n",
    "| Cancellation | job.cancel() cancels the work; parent/child cancellation propagates | deferred.cancel() cancels; same propagation rules |\n",
    "| Start options | CoroutineStart.DEFAULT (eager) by default; LAZY supported via start=CoroutineStart.LAZY | Same start options as launch |\n",
    "| Combining/parallelism | Use multiple launch jobs and join them; no values to combine | Ideal for parallel computations; use await() / awaitAll() to combine results |\n",
    "| Typical use cases | UI updates, logging, fire-and-forget tasks, starting child coroutines in a scope | Fetching/combining data, parallel computations returning values |\n",
    "| Handling completion | job.invokeOnCompletion { … } | deferred.invokeOnCompletion { … } or await() |\n",
    "| Treat as Job | Yes (it is a Job) | Yes (Deferred<T> extends Job) |"
   ]
  },
  {
   "metadata": {},
   "cell_type": "markdown",
   "source": [
    "\n",
    "### Quick examples\n",
    "\n",
    "- launch (fire-and-forget):\n"
   ]
  },
  {
   "metadata": {
    "ExecuteTime": {
     "end_time": "2025-09-28T01:33:51.437814Z",
     "start_time": "2025-09-28T01:33:51.114509Z"
    }
   },
   "cell_type": "code",
   "source": [
    "runBlocking {\n",
    "    val job = launch {\n",
    "        println(\"Doing some work…\")\n",
    "        delay(100)\n",
    "        println(\"Done\")\n",
    "    }\n",
    "    job.join() // wait until it completes; doesn’t throw on failure\n",
    "}"
   ],
   "outputs": [
    {
     "name": "stdout",
     "output_type": "stream",
     "text": [
      "Doing some work…\n",
      "Done\n"
     ]
    }
   ],
   "execution_count": 6
  },
  {
   "metadata": {},
   "cell_type": "markdown",
   "source": "- async (producing a value):"
  },
  {
   "metadata": {
    "ExecuteTime": {
     "end_time": "2025-09-28T01:33:51.776592Z",
     "start_time": "2025-09-28T01:33:51.444035Z"
    }
   },
   "cell_type": "code",
   "source": [
    "suspend fun compute(i: Int): Int { delay(100); return i * 2 }\n",
    "\n",
    "runBlocking {\n",
    "    val a = async { compute(21) }\n",
    "    val b = async { compute(21) }\n",
    "    val sum = a.await() + b.await()\n",
    "    println(sum) // 84\n",
    "}"
   ],
   "outputs": [
    {
     "name": "stdout",
     "output_type": "stream",
     "text": [
      "84\n"
     ]
    }
   ],
   "execution_count": 7
  },
  {
   "metadata": {
    "ExecuteTime": {
     "end_time": "2025-09-28T01:33:51.786667Z",
     "start_time": "2025-09-28T01:33:51.782406Z"
    }
   },
   "cell_type": "code",
   "source": "",
   "outputs": [],
   "execution_count": null
  }
 ],
 "metadata": {
  "kernelspec": {
   "display_name": "Kotlin",
   "language": "kotlin",
   "name": "kotlin"
  },
  "language_info": {
   "name": "kotlin",
   "version": "2.2.20-Beta2",
   "mimetype": "text/x-kotlin",
   "file_extension": ".kt",
   "pygments_lexer": "kotlin",
   "codemirror_mode": "text/x-kotlin",
   "nbconvert_exporter": ""
  }
 },
 "nbformat": 4,
 "nbformat_minor": 0
}
