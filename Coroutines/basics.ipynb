{
 "cells": [
  {
   "metadata": {},
   "cell_type": "markdown",
   "source": [
    "# Kotlin Coroutines: Basic Examples in a Notebook\n",
    "\n",
    "This notebook demonstrates essential coroutine patterns using Kotlin in a JetBrains Notebook.\n",
    "\n",
    "## Index\n",
    "- [Setup: common imports](#setup-common-imports)\n",
    "- [1) launch with runBlocking](#1-launch-with-runblocking)\n",
    "- [2) async/await for concurrent decomposition](#2-asyncawait-for-concurrent-decomposition)\n",
    "- [3) Structured concurrency with coroutineScope](#3-structured-concurrency-with-coroutinescope)\n",
    "- [4) Cancellation and timeouts](#4-cancellation-and-timeouts)\n",
    "- [5) Switching threads with withContext and Dispatchers](#5-switching-threads-with-withcontext-and-dispatchers)\n",
    "- [6) Flow: cold asynchronous stream](#6-flow-cold-asynchronous-stream)\n",
    "- [7) Callback hell: what it is and how coroutines help](#7-callback-hell-what-it-is-and-how-coroutines-help)\n",
    "- [8) Dispatchers explained: choosing where coroutines run](#8-dispatchers-explained-choosing-where-coroutines-run)\n",
    "- [9) Structured concurrency in Kotlin](#9-structured-concurrency-in-kotlin)\n",
    "- [10) What is a Job in Kotlin coroutines?](#10-what-is-a-job-in-kotlin-coroutines)\n",
    "- [11) Dispatcher.Main.immediate: what it is and when to use it](#11-dispatchermainimmediate-what-it-is-and-when-to-use-it)\n",
    "- [Appendix: The Android event loop (Looper/MessageQueue) and coroutines](#appendix-the-android-event-loop-loopermessagequeue-and-coroutines)\n"
   ]
  },
  {
   "metadata": {
    "ExecuteTime": {
     "end_time": "2025-09-28T00:47:20.544792Z",
     "start_time": "2025-09-28T00:47:20.500325Z"
    }
   },
   "cell_type": "code",
   "source": "@file:DependsOn(\"org.jetbrains.kotlinx:kotlinx-coroutines-core:1.8.1\")",
   "outputs": [],
   "execution_count": 19
  },
  {
   "metadata": {},
   "cell_type": "markdown",
   "source": [
    "## Setup: common imports\n",
    "To keep the notebook tidy, we import commonly used coroutine APIs up front.\n"
   ]
  },
  {
   "metadata": {
    "ExecuteTime": {
     "end_time": "2025-09-28T00:47:21.921892Z",
     "start_time": "2025-09-28T00:47:21.903769Z"
    }
   },
   "cell_type": "code",
   "source": [
    "import kotlinx.coroutines.*\n",
    "import kotlinx.coroutines.flow.*\n",
    "import kotlin.system.measureTimeMillis\n",
    "import java.util.concurrent.Executors\n"
   ],
   "outputs": [],
   "execution_count": 20
  },
  {
   "metadata": {},
   "cell_type": "markdown",
   "source": [
    "## 1) launch with runBlocking\n",
    "Use runBlocking in notebooks (or main functions) to bridge blocking and suspending worlds.\n",
    "launch starts a new coroutine that runs concurrently and returns a Job.\n"
   ]
  },
  {
   "metadata": {
    "ExecuteTime": {
     "end_time": "2025-09-28T00:47:24.196319Z",
     "start_time": "2025-09-28T00:47:23.219241Z"
    }
   },
   "cell_type": "code",
   "source": [
    "runBlocking {\n",
    "    val job = launch {\n",
    "        repeat(3) { i ->\n",
    "            delay(300)\n",
    "            println(\"[launch] Tick $i\")\n",
    "        }\n",
    "    }\n",
    "    println(\"[main] Waiting for child coroutine...\")\n",
    "    job.join()\n",
    "    println(\"[main] Done.\")\n",
    "}\n"
   ],
   "outputs": [
    {
     "name": "stdout",
     "output_type": "stream",
     "text": [
      "[main] Waiting for child coroutine...\n",
      "[launch] Tick 0\n",
      "[launch] Tick 1\n",
      "[launch] Tick 2\n",
      "[main] Done.\n"
     ]
    }
   ],
   "execution_count": 21
  },
  {
   "metadata": {},
   "cell_type": "markdown",
   "source": [
    "## 2) async/await for concurrent decomposition\n",
    "async returns a Deferred; await waits for the result.\n",
    "Both children run concurrently here. We also measure elapsed time.\n"
   ]
  },
  {
   "metadata": {
    "ExecuteTime": {
     "end_time": "2025-09-28T00:47:09.455668Z",
     "start_time": "2025-09-28T00:47:08.843185Z"
    }
   },
   "cell_type": "code",
   "source": [
    "runBlocking {\n",
    "    val elapsed = measureTimeMillis {\n",
    "        val one = async { delay(500); 40 }\n",
    "        val two = async { delay(500); 2 }\n",
    "        val result = one.await() + two.await()\n",
    "        println(\"[async] Result = $result\")\n",
    "    }\n",
    "    println(\"[async] Completed in ${elapsed} ms\")\n",
    "}\n"
   ],
   "outputs": [
    {
     "name": "stdout",
     "output_type": "stream",
     "text": [
      "[async] Result = 42\n",
      "[async] Completed in 503 ms\n"
     ]
    }
   ],
   "execution_count": 4
  },
  {
   "metadata": {},
   "cell_type": "markdown",
   "source": [
    "## 3) Structured concurrency with coroutineScope\n",
    "coroutineScope waits for all its children to complete, ensuring proper structure and lifecycle.\n"
   ]
  },
  {
   "metadata": {
    "ExecuteTime": {
     "end_time": "2025-09-28T00:47:09.768678Z",
     "start_time": "2025-09-28T00:47:09.470291Z"
    }
   },
   "cell_type": "code",
   "source": [
    "runBlocking {\n",
    "    coroutineScope {\n",
    "        launch {\n",
    "            delay(200)\n",
    "            println(\"[scope] Task from nested launch\")\n",
    "        }\n",
    "        println(\"[scope] Inside coroutineScope block\")\n",
    "    }\n",
    "    println(\"[scope] coroutineScope is over (all children completed)\")\n",
    "}\n",
    "\n"
   ],
   "outputs": [
    {
     "name": "stdout",
     "output_type": "stream",
     "text": [
      "[scope] Inside coroutineScope block\n",
      "[scope] Task from nested launch\n",
      "[scope] coroutineScope is over (all children completed)\n"
     ]
    }
   ],
   "execution_count": 5
  },
  {
   "metadata": {},
   "cell_type": "markdown",
   "source": [
    "## 4) Cancellation and timeouts\n",
    "Jobs are cancellable. You can cancel a Job explicitly or use timeouts.\n"
   ]
  },
  {
   "metadata": {
    "ExecuteTime": {
     "end_time": "2025-09-28T00:47:11.224456Z",
     "start_time": "2025-09-28T00:47:09.791637Z"
    }
   },
   "cell_type": "code",
   "source": [
    "// Explicit cancel\n",
    "runBlocking {\n",
    "    val job = launch {\n",
    "        try {\n",
    "            repeat(10) { i ->\n",
    "                println(\"[cancel] I'm sleeping $i ...\")\n",
    "                delay(200)\n",
    "            }\n",
    "        } finally {\n",
    "            println(\"[cancel] finally: cleanup if needed\")\n",
    "        }\n",
    "    }\n",
    "    delay(700)\n",
    "    println(\"[cancel] main: Tired of waiting!\")\n",
    "    job.cancelAndJoin()\n",
    "    println(\"[cancel] main: Done.\")\n",
    "}\n",
    "\n",
    "// Timeout\n",
    "runBlocking {\n",
    "    val result = withTimeoutOrNull(500) {\n",
    "        repeat(10) { _ ->\n",
    "            delay(200)\n",
    "        }\n",
    "        \"Finished\"\n",
    "    }\n",
    "    println(\"[timeout] result = $result\")\n",
    "}\n"
   ],
   "outputs": [
    {
     "name": "stdout",
     "output_type": "stream",
     "text": [
      "[cancel] I'm sleeping 0 ...\n",
      "[cancel] I'm sleeping 1 ...\n",
      "[cancel] I'm sleeping 2 ...\n",
      "[cancel] I'm sleeping 3 ...\n",
      "[cancel] main: Tired of waiting!\n",
      "[cancel] finally: cleanup if needed\n",
      "[cancel] main: Done.\n",
      "[timeout] result = null\n"
     ]
    }
   ],
   "execution_count": 6
  },
  {
   "metadata": {},
   "cell_type": "markdown",
   "source": [
    "## 5) Switching threads with withContext and Dispatchers\n",
    "Use withContext to shift to a thread pool appropriate for the work.\n"
   ]
  },
  {
   "metadata": {
    "ExecuteTime": {
     "end_time": "2025-09-28T00:47:11.350248Z",
     "start_time": "2025-09-28T00:47:11.235265Z"
    }
   },
   "cell_type": "code",
   "source": [
    "fun cpuIntensive(): Long {\n",
    "    // Dummy CPU work\n",
    "    return (1..1_000_000).fold(0L) { acc, i -> acc + (i % 7) }\n",
    "}\n",
    "\n",
    "runBlocking {\n",
    "    val result = withContext(Dispatchers.Default) {\n",
    "        cpuIntensive()\n",
    "    }\n",
    "    println(\"[withContext] Computed on Default dispatcher: $result\")\n",
    "}\n"
   ],
   "outputs": [
    {
     "name": "stdout",
     "output_type": "stream",
     "text": [
      "[withContext] Computed on Default dispatcher: 2999998\n"
     ]
    }
   ],
   "execution_count": 7
  },
  {
   "metadata": {},
   "cell_type": "markdown",
   "source": [
    "## 6) Flow: cold asynchronous stream\n",
    "Flow builds values lazily and emits asynchronously. Collect to consume.\n"
   ]
  },
  {
   "metadata": {
    "ExecuteTime": {
     "end_time": "2025-09-28T00:47:12.045927Z",
     "start_time": "2025-09-28T00:47:11.365272Z"
    }
   },
   "cell_type": "code",
   "source": [
    "fun numbers(): Flow<Int> = flow {\n",
    "    for (i in 1..5) {\n",
    "        delay(100)\n",
    "        emit(i)\n",
    "    }\n",
    "}\n",
    "\n",
    "runBlocking {\n",
    "    numbers()\n",
    "        .map { it * it }\n",
    "        .onEach { println(\"[flow] Emitting $it\") }\n",
    "        .collect()\n",
    "}\n"
   ],
   "outputs": [
    {
     "name": "stdout",
     "output_type": "stream",
     "text": [
      "[flow] Emitting 1\n",
      "[flow] Emitting 4\n",
      "[flow] Emitting 9\n",
      "[flow] Emitting 16\n",
      "[flow] Emitting 25\n"
     ]
    }
   ],
   "execution_count": 8
  },
  {
   "metadata": {},
   "cell_type": "markdown",
   "source": [
    "## 7) Callback hell: what it is and how coroutines help\n",
    "\n",
    "Callback hell is what happens when asynchronous code is expressed as nested callbacks that grow to the right, making control flow hard to read, reason about, and handle errors for. Symptoms include:\n",
    "- Deeply nested lambdas (\"pyramid of doom\")\n",
    "- Inversion of control (your logic is scattered across callbacks)\n",
    "- Hard-to-compose error handling and cancellation\n",
    "\n",
    "Why it happens: many async APIs expose callback-style interfaces (success/failure listeners) instead of suspend functions. Chaining multiple async operations leads to nesting.\n",
    "\n",
    "How coroutines help: coroutines let you write asynchronous code in a sequential style using suspend functions, structured concurrency, and async/await. This keeps the code flat, composable, and testable while still being non-blocking.\n",
    "\n",
    "Example (illustrative):\n",
    "\n",
    "```kotlin\n",
    "// Without coroutines: nested callbacks (pseudo-API)\n",
    "fun fetchUser(id: String, onSuccess: (User) -> Unit, onError: (Throwable) -> Unit)\n",
    "fun fetchPosts(user: User, onSuccess: (List<Post>) -> Unit, onError: (Throwable) -> Unit)\n",
    "fun render(posts: List<Post>)\n",
    "\n",
    "fetchUser(\"42\", { user ->\n",
    "    fetchPosts(user, { posts ->\n",
    "        try {\n",
    "            render(posts)\n",
    "        } catch (t: Throwable) {\n",
    "            println(\"render error: ${t.message}\")\n",
    "        }\n",
    "    }, { e ->\n",
    "        println(\"posts error: ${e.message}\")\n",
    "    })\n",
    "}, { e ->\n",
    "    println(\"user error: ${e.message}\")\n",
    "})\n",
    "```\n",
    "\n",
    "With coroutines, convert callback-style APIs to suspend functions (often provided by libraries or via wrappers), then compose sequentially:\n",
    "\n",
    "```kotlin\n",
    "// With coroutines (illustrative):\n",
    "suspend fun fetchUser(id: String): User\n",
    "suspend fun fetchPosts(user: User): List<Post>\n",
    "\n",
    "runBlocking {\n",
    "    try {\n",
    "        val user = fetchUser(\"42\")           // suspends, no thread blocked\n",
    "        val posts = fetchPosts(user)           // sequential, still non-blocking\n",
    "        render(posts)                          // regular call\n",
    "    } catch (e: Throwable) {\n",
    "        println(\"error: ${e.message}\")\n",
    "    }\n",
    "}\n",
    "```\n",
    "\n",
    "Parallelizing independent work stays readable:\n",
    "\n",
    "```kotlin\n",
    "runBlocking {\n",
    "    val userDeferred = async { fetchUser(\"42\") }\n",
    "    val settingsDeferred = async { fetchSettings(\"42\") }\n",
    "    val user = userDeferred.await()\n",
    "    val settings = settingsDeferred.await()\n",
    "    apply(user, settings)\n",
    "}\n",
    "```\n",
    "\n",
    "Takeaways:\n",
    "- Prefer suspend APIs over raw callbacks when available.\n",
    "- Wrap callback-based APIs into suspend functions (e.g., using suspendCancellableCoroutine) to escape callback hell.\n",
    "- Use structured concurrency (scope, Job hierarchy) for lifecycle, error propagation, and cancellation.\n"
   ]
  },
  {
   "metadata": {},
   "cell_type": "markdown",
   "source": [
    "## 8) Dispatchers explained: choosing where coroutines run\n",
    "\n",
    "Dispatchers define the thread(s) a coroutine uses. Pick the dispatcher based on the nature of work:\n",
    "\n",
    "- Dispatchers.Default — CPU-bound work. Backed by a shared pool sized by CPU cores. Use for computations, parsing, etc.\n",
    "- Dispatchers.IO — Blocking I/O (files, sockets, DB drivers). Larger thread pool tuned for blocking operations; prefer this when you must block a thread.\n",
    "- Dispatchers.Main — Main UI thread (Android/JavaFX/Swing). Requires an extra artifact (e.g., kotlinx-coroutines-android, -javafx, or -swing) and only exists in those runtimes. Not used in this notebook.\n",
    "- Dispatchers.Unconfined — Starts in the current call-frame thread and resumes in the thread of the next suspension. Useful for tests or advanced cases; avoid for general app code because it’s not confined to a specific thread.\n",
    "- Custom dispatcher — Create from an Executor or thread pool when you need dedicated threads. Remember to close it.\n",
    "\n",
    "Tips:\n",
    "- Use withContext(dispatcher) to switch context for a block.\n",
    "- Avoid newSingleThreadContext (deprecated). Prefer Executors.newSingleThreadExecutor().asCoroutineDispatcher().\n",
    "- Limit parallelism: Dispatchers.Default/IO can be sliced with limitedParallelism(N) for backpressure.\n",
    "\n",
    "### See it in action: Default vs IO\n"
   ]
  },
  {
   "metadata": {
    "ExecuteTime": {
     "end_time": "2025-09-28T00:47:12.128360Z",
     "start_time": "2025-09-28T00:47:12.051617Z"
    }
   },
   "cell_type": "code",
   "source": [
    "runBlocking {\n",
    "    val d = withContext(Dispatchers.Default) {\n",
    "        Thread.currentThread().name\n",
    "    }\n",
    "    val io = withContext(Dispatchers.IO) {\n",
    "        Thread.currentThread().name\n",
    "    }\n",
    "    println(\"[dispatcher] Default on: $d\")\n",
    "    println(\"[dispatcher] IO on: $io\")\n",
    "}\n"
   ],
   "outputs": [
    {
     "name": "stdout",
     "output_type": "stream",
     "text": [
      "[dispatcher] Default on: DefaultDispatcher-worker-1\n",
      "[dispatcher] IO on: DefaultDispatcher-worker-1\n"
     ]
    }
   ],
   "execution_count": 9
  },
  {
   "metadata": {},
   "cell_type": "markdown",
   "source": [
    "### Unconfined dispatcher behavior\n",
    "Unconfined starts in the caller thread, but after suspension it resumes in whatever thread the suspension resumes on (e.g., a scheduler). This can change between calls.\n"
   ]
  },
  {
   "metadata": {
    "ExecuteTime": {
     "end_time": "2025-09-28T00:47:12.326803Z",
     "start_time": "2025-09-28T00:47:12.139501Z"
    }
   },
   "cell_type": "code",
   "source": [
    "runBlocking {\n",
    "    println(\"[unconfined] start on: ${Thread.currentThread().name}\")\n",
    "    launch(Dispatchers.Unconfined) {\n",
    "        println(\"[unconfined] before delay: ${Thread.currentThread().name}\")\n",
    "        delay(100)\n",
    "        println(\"[unconfined] after delay: ${Thread.currentThread().name}\")\n",
    "    }.join()\n",
    "}\n"
   ],
   "outputs": [
    {
     "name": "stdout",
     "output_type": "stream",
     "text": [
      "[unconfined] start on: Execution of code 'import kotlinx.corou...'\n",
      "[unconfined] before delay: Execution of code 'import kotlinx.corou...'\n",
      "[unconfined] after delay: kotlinx.coroutines.DefaultExecutor\n"
     ]
    }
   ],
   "execution_count": 10
  },
  {
   "metadata": {},
   "cell_type": "markdown",
   "source": [
    "### Custom single-thread dispatcher (via Executor)\n",
    "Sometimes you need strict confinement (e.g., a legacy library requiring single-threaded access).\n"
   ]
  },
  {
   "metadata": {
    "ExecuteTime": {
     "end_time": "2025-09-28T00:49:07.037244Z",
     "start_time": "2025-09-28T00:49:06.785309Z"
    }
   },
   "cell_type": "code",
   "source": [
    "import java.util.concurrent.Executors\n",
    "import kotlin.concurrent.thread\n",
    "\n",
    "val single = Executors.newSingleThreadExecutor().asCoroutineDispatcher()\n",
    "try {\n",
    "    runBlocking(single) {\n",
    "        repeat(3) { i ->\n",
    "            println(\"[single] $i on ${Thread.currentThread().name}\")\n",
    "            delay(50)\n",
    "        }\n",
    "    }\n",
    "} finally {\n",
    "    single.close() // always close custom dispatchers\n",
    "}\n"
   ],
   "outputs": [
    {
     "name": "stdout",
     "output_type": "stream",
     "text": [
      "[single] 0 on pool-2-thread-1\n",
      "[single] 1 on pool-2-thread-1\n",
      "[single] 2 on pool-2-thread-1\n"
     ]
    }
   ],
   "execution_count": 22
  },
  {
   "metadata": {},
   "cell_type": "markdown",
   "source": [
    "### Limiting parallelism\n",
    "Use limitedParallelism to cap concurrency on a shared pool for a specific sub-system.\n"
   ]
  },
  {
   "metadata": {
    "ExecuteTime": {
     "end_time": "2025-09-28T00:47:12.989416Z",
     "start_time": "2025-09-28T00:47:12.638519Z"
    }
   },
   "cell_type": "code",
   "source": [
    "runBlocking {\n",
    "    val limitedIO = Dispatchers.IO.limitedParallelism(2)\n",
    "    val jobs = List(5) { idx ->\n",
    "        launch(limitedIO) {\n",
    "            println(\"[limitedIO] start $idx on ${Thread.currentThread().name}\")\n",
    "            delay(200)\n",
    "            println(\"[limitedIO] end   $idx on ${Thread.currentThread().name}\")\n",
    "        }\n",
    "    }\n",
    "    jobs.forEach { it.join() }\n",
    "}\n",
    "\n"
   ],
   "outputs": [
    {
     "name": "stdout",
     "output_type": "stream",
     "text": [
      "[limitedIO] start 1 on DefaultDispatcher-worker-2\n",
      "[limitedIO] start 0 on DefaultDispatcher-worker-1\n",
      "[limitedIO] start 3 on DefaultDispatcher-worker-1\n",
      "[limitedIO] start 4 on DefaultDispatcher-worker-1\n",
      "[limitedIO] start 2 on DefaultDispatcher-worker-2\n",
      "[limitedIO] end   1 on DefaultDispatcher-worker-2\n",
      "[limitedIO] end   3 on DefaultDispatcher-worker-5\n",
      "[limitedIO] end   0 on DefaultDispatcher-worker-2\n",
      "[limitedIO] end   4 on DefaultDispatcher-worker-5\n",
      "[limitedIO] end   2 on DefaultDispatcher-worker-2\n"
     ]
    }
   ],
   "execution_count": 12
  },
  {
   "metadata": {},
   "cell_type": "markdown",
   "source": [
    "## 9) Structured concurrency in Kotlin\n",
    "\n",
    "Structured concurrency is a design principle that organizes concurrent work into a tree of scopes so that lifetimes are explicit and bounded. In Kotlin coroutines, every coroutine runs in a CoroutineScope and has a parent Job. This gives you:\n",
    "- Ownership and lifecycle: parents wait for children to finish (or get canceled) before completing.\n",
    "- Cancellation propagation: canceling a parent cancels all its children.\n",
    "- Exception propagation: failures in a child are reported to the parent (and typically cancel the family), unless you use supervisor semantics.\n",
    "\n",
    "Why it matters:\n",
    "- Prevents \"fire-and-forget\" leaks.\n",
    "- Makes shutdown predictable: you can cancel a scope and know all work is stopped.\n",
    "- Makes errors visible: failures bubble up instead of being silently lost.\n",
    "\n",
    "### Core building blocks\n",
    "- runBlocking: bridges blocking and suspending worlds; creates a root scope that completes when its child coroutines complete.\n",
    "- coroutineScope: a suspending function that creates a child scope; it does not return until all its children are done or the scope fails.\n",
    "- Job hierarchy: every coroutine has a Job that has a parent Job (except a root). Parents wait for children.\n",
    "\n",
    "### Example A: Parents wait for children (coroutineScope)\n"
   ]
  },
  {
   "metadata": {
    "ExecuteTime": {
     "end_time": "2025-09-28T00:47:13.384555Z",
     "start_time": "2025-09-28T00:47:12.994275Z"
    }
   },
   "cell_type": "code",
   "source": [
    "runBlocking {\n",
    "    val time = measureTimeMillis {\n",
    "        coroutineScope { // this suspends until its children complete\n",
    "            launch {\n",
    "                delay(200)\n",
    "                println(\"[structured] Child 1 done on ${Thread.currentThread().name}\")\n",
    "            }\n",
    "            launch {\n",
    "                delay(300)\n",
    "                println(\"[structured] Child 2 done on ${Thread.currentThread().name}\")\n",
    "            }\n",
    "            println(\"[structured] Inside coroutineScope\")\n",
    "        }\n",
    "    }\n",
    "    println(\"[structured] coroutineScope returned after ${time} ms (both children finished)\")\n",
    "}\n"
   ],
   "outputs": [
    {
     "name": "stdout",
     "output_type": "stream",
     "text": [
      "[structured] Inside coroutineScope\n",
      "[structured] Child 1 done on Execution of code 'import kotlinx.corou...'\n",
      "[structured] Child 2 done on Execution of code 'import kotlinx.corou...'\n",
      "[structured] coroutineScope returned after 306 ms (both children finished)\n"
     ]
    }
   ],
   "execution_count": 13
  },
  {
   "metadata": {},
   "cell_type": "markdown",
   "source": [
    "### Example B: Cancellation flows downward\n",
    "If the parent scope is canceled, all children are canceled too.\n"
   ]
  },
  {
   "metadata": {
    "ExecuteTime": {
     "end_time": "2025-09-28T00:47:13.743160Z",
     "start_time": "2025-09-28T00:47:13.396897Z"
    }
   },
   "cell_type": "code",
   "source": [
    "runBlocking {\n",
    "    val parent = launch {\n",
    "        val c1 = launch {\n",
    "            try { delay(1_000); println(\"[cancel-flow] c1 finished\") } finally { println(\"[cancel-flow] c1 finally (canceled)\") }\n",
    "        }\n",
    "        val c2 = launch {\n",
    "            try { delay(1_000); println(\"[cancel-flow] c2 finished\") } finally { println(\"[cancel-flow] c2 finally (canceled)\") }\n",
    "        }\n",
    "        joinAll(c1, c2)\n",
    "    }\n",
    "    delay(200)\n",
    "    println(\"[cancel-flow] Cancel parent\")\n",
    "    parent.cancelAndJoin()\n",
    "    println(\"[cancel-flow] Parent joined (children were canceled)\")\n",
    "}\n"
   ],
   "outputs": [
    {
     "name": "stdout",
     "output_type": "stream",
     "text": [
      "[cancel-flow] Cancel parent\n",
      "[cancel-flow] c1 finally (canceled)\n",
      "[cancel-flow] c2 finally (canceled)\n",
      "[cancel-flow] Parent joined (children were canceled)\n"
     ]
    }
   ],
   "execution_count": 14
  },
  {
   "metadata": {},
   "cell_type": "markdown",
   "source": [
    "### Example C: Exception propagation in regular structured concurrency\n",
    "By default, an uncaught exception in a child fails the parent and cancels siblings. Handle exceptions where appropriate, or use supervisor semantics when isolation is required.\n"
   ]
  },
  {
   "metadata": {
    "ExecuteTime": {
     "end_time": "2025-09-28T00:47:14.102009Z",
     "start_time": "2025-09-28T00:47:13.756387Z"
    }
   },
   "cell_type": "code",
   "source": [
    "runBlocking {\n",
    "    try {\n",
    "        coroutineScope {\n",
    "            launch {\n",
    "                delay(100)\n",
    "                println(\"[exceptions] Child A failing\")\n",
    "                throw RuntimeException(\"Boom\")\n",
    "            }\n",
    "            launch {\n",
    "                try {\n",
    "                    delay(500)\n",
    "                    println(\"[exceptions] Child B finished (won't happen)\")\n",
    "                } finally {\n",
    "                    println(\"[exceptions] Child B finally (canceled)\")\n",
    "                }\n",
    "            }\n",
    "        }\n",
    "    } catch (e: Throwable) {\n",
    "        println(\"[exceptions] Caught in parent: ${e::class.simpleName} -> ${e.message}\")\n",
    "    }\n",
    "}\n"
   ],
   "outputs": [
    {
     "name": "stdout",
     "output_type": "stream",
     "text": [
      "[exceptions] Child A failing\n",
      "[exceptions] Child B finally (canceled)\n",
      "[exceptions] Caught in parent: RuntimeException -> Boom\n"
     ]
    }
   ],
   "execution_count": 15
  },
  {
   "metadata": {},
   "cell_type": "markdown",
   "source": [
    "### Avoid GlobalScope for application code\n",
    "GlobalScope.launch creates a top-level coroutine that isn’t bound to any lifecycle; it won’t be canceled when your feature/component is destroyed. Prefer passing/creating a CoroutineScope and launching in it. If you need siblings not to cancel each other, prefer supervisorScope or a CoroutineScope(SupervisorJob()). See the dedicated notebook: Coroutines/supervisor_job_and_scope.ipynb.\n",
    "\n",
    "### Takeaways\n",
    "- Always launch in a scope you control (lifecycle-owned scope).\n",
    "- Use coroutineScope to group work and ensure completion.\n",
    "- Cancellation flows downward; exceptions by default cancel the whole family.\n",
    "- Use supervisorScope or SupervisorJob when sibling isolation is required (and attach a CoroutineExceptionHandler for visibility).\n"
   ]
  },
  {
   "metadata": {},
   "cell_type": "markdown",
   "source": [
    "## 10) What is a Job in Kotlin coroutines?\n",
    "\n",
    "A Job is the handle and lifecycle of a coroutine. When you call launch, it returns a Job. That Job lets you:\n",
    "- Observe state: isActive, isCompleted, isCancelled\n",
    "- Wait for completion: join()\n",
    "- Cancel cooperatively: cancel() / cancelAndJoin()\n",
    "- Participate in structured concurrency as part of a parent–child Job hierarchy\n",
    "\n",
    "Key ideas:\n",
    "- Lifecycle: New → Active → Completing → Completed (or Cancelling → Cancelled on cancellation/failure). You typically query via booleans rather than state enums.\n",
    "- Hierarchy: Every coroutine has a Job; a parent Job waits for children and cancellation flows from parent to children.\n",
    "- Job vs Deferred<T>: Deferred is a Job with a result (await()) and failure becomes an exception on await. A plain Job has no result (fire-and-forget but still structured).\n",
    "- Start modes (advanced):\n",
    "  - DEFAULT: start when scheduled.\n",
    "  - LAZY: start only when needed (start(), join(), or await()).\n",
    "  - ATOMIC: cannot be canceled before it starts executing the first instruction.\n",
    "  - UNDISPATCHED: start running immediately in the current thread until the first suspension.\n",
    "\n",
    "### Example 1: Create, observe, cancel, and join a Job\n"
   ]
  },
  {
   "metadata": {
    "ExecuteTime": {
     "end_time": "2025-09-28T00:47:14.628360Z",
     "start_time": "2025-09-28T00:47:14.113016Z"
    }
   },
   "cell_type": "code",
   "source": [
    "runBlocking {\n",
    "    val job = launch {\n",
    "        try {\n",
    "            repeat(5) { i ->\n",
    "                delay(150)\n",
    "                println(\"[job] Tick $i on ${Thread.currentThread().name}\")\n",
    "            }\n",
    "        } finally {\n",
    "            println(\"[job] finally: cleanup before finish (canceled = ${!isActive})\")\n",
    "        }\n",
    "    }\n",
    "    println(\"[job] active? ${job.isActive}, completed? ${job.isCompleted}, cancelled? ${job.isCancelled}\")\n",
    "    delay(400)\n",
    "    println(\"[job] Cancel it now\")\n",
    "    job.cancelAndJoin()\n",
    "    println(\"[job] active? ${job.isActive}, completed? ${job.isCompleted}, cancelled? ${job.isCancelled}\")\n",
    "}\n"
   ],
   "outputs": [
    {
     "name": "stdout",
     "output_type": "stream",
     "text": [
      "[job] active? true, completed? false, cancelled? false\n",
      "[job] Tick 0 on Execution of code 'import kotlinx.corou...'\n",
      "[job] Tick 1 on Execution of code 'import kotlinx.corou...'\n",
      "[job] Cancel it now\n",
      "[job] finally: cleanup before finish (canceled = true)\n",
      "[job] active? false, completed? true, cancelled? true\n"
     ]
    }
   ],
   "execution_count": 16
  },
  {
   "metadata": {},
   "cell_type": "markdown",
   "source": [
    "### Example 2: Job vs Deferred<T>\n",
    "Deferred is a Job with a result. You can still cancel/join, but you also have await() to get the value (or exception).\n"
   ]
  },
  {
   "metadata": {
    "ExecuteTime": {
     "end_time": "2025-09-28T00:47:14.914992Z",
     "start_time": "2025-09-28T00:47:14.641959Z"
    }
   },
   "cell_type": "code",
   "source": [
    "runBlocking {\n",
    "    val deferred: Deferred<Int> = async {\n",
    "        delay(200)\n",
    "        21 + 21\n",
    "    }\n",
    "    println(\"[deferred] isActive=${deferred.isActive}\")\n",
    "    val value = deferred.await() // suspends until ready\n",
    "    println(\"[deferred] value=$value, isCompleted=${deferred.isCompleted}\")\n",
    "}\n"
   ],
   "outputs": [
    {
     "name": "stdout",
     "output_type": "stream",
     "text": [
      "[deferred] isActive=true\n",
      "[deferred] value=42, isCompleted=true\n"
     ]
    }
   ],
   "execution_count": 17
  },
  {
   "metadata": {},
   "cell_type": "markdown",
   "source": [
    "### Example 3: Parent–child Jobs and cancellation propagation\n",
    "Canceling the parent cancels all its children. Parents don’t complete until children complete.\n"
   ]
  },
  {
   "metadata": {
    "ExecuteTime": {
     "end_time": "2025-09-28T00:47:15.373063Z",
     "start_time": "2025-09-28T00:47:14.964895Z"
    }
   },
   "cell_type": "code",
   "source": [
    "runBlocking {\n",
    "    val parent: Job = launch {\n",
    "        val c1 = launch {\n",
    "            try { delay(1_000); println(\"[family] c1 finished\") } finally { println(\"[family] c1 finally (canceled=${!isActive})\") }\n",
    "        }\n",
    "        val c2 = launch {\n",
    "            try { delay(1_000); println(\"[family] c2 finished\") } finally { println(\"[family] c2 finally (canceled=${!isActive})\") }\n",
    "        }\n",
    "        joinAll(c1, c2)\n",
    "        println(\"[family] parent body finished (children done)\")\n",
    "    }\n",
    "    delay(250)\n",
    "    println(\"[family] Cancel parent\")\n",
    "    parent.cancelAndJoin()\n",
    "    println(\"[family] Parent joined\")\n",
    "}\n"
   ],
   "outputs": [
    {
     "name": "stdout",
     "output_type": "stream",
     "text": [
      "[family] Cancel parent\n",
      "[family] c1 finally (canceled=true)\n",
      "[family] c2 finally (canceled=true)\n",
      "[family] Parent joined\n"
     ]
    }
   ],
   "execution_count": 18
  },
  {
   "metadata": {},
   "cell_type": "markdown",
   "source": [
    "Takeaways:\n",
    "- Job is the lifecycle handle of a coroutine: cancel, join, and inspect it.\n",
    "- Prefer launching coroutines inside a scope you control so Jobs form a clear tree (structured concurrency).\n",
    "- Use Deferred when you need a result; otherwise, a plain Job is enough.\n"
   ]
  },
  {
   "metadata": {},
   "cell_type": "markdown",
   "source": [
    "## 11) Dispatcher.Main.immediate: what it is and when to use it\n",
    "\n",
    "Dispatcher.Main.immediate is a variant of the main-thread dispatcher available on UI runtimes (Android, Swing, JavaFX). It behaves like Dispatchers.Main, but with one important difference:\n",
    "\n",
    "- If you are already running on the Main thread, it will execute the coroutine continuation immediately (without an extra dispatch/post to the event loop).\n",
    "- If you are not on the Main thread, it will dispatch to the Main thread as usual.\n",
    "\n",
    "This can remove an extra scheduling hop and reduce latency in hot UI paths.\n",
    "\n",
    "Important:\n",
    "- Requires the appropriate runtime artifact so that Dispatchers.Main is available:\n",
    "  - Android: add dependency on kotlinx-coroutines-android\n",
    "  - Swing: add dependency on kotlinx-coroutines-swing\n",
    "  - JavaFX: add dependency on kotlinx-coroutines-javafx\n",
    "- In this notebook (plain JVM), Dispatchers.Main is not available, so the examples below are illustrative and not meant to be executed here.\n",
    "\n",
    "How it differs from related options:\n",
    "- vs Dispatchers.Main: Main always posts/dispatches to the event loop even if you are already on Main, whereas Main.immediate runs inline in that case.\n",
    "- vs Dispatchers.Unconfined: Unconfined is not confined to any thread and may resume on different threads after suspension; Main.immediate is still strictly confined to the Main UI thread, it just avoids an extra dispatch when already there.\n",
    "\n",
    "When to use:\n",
    "- UI event handlers or collectors already running on the Main thread where you want to update UI state immediately without the cost of an extra dispatch.\n",
    "- Hot paths where a double-dispatch could cause jank (e.g., animation or tight render loops).\n",
    "\n",
    "Caveats:\n",
    "- Re-entrancy: because it may run inline, code can execute sooner than expected and re-enter current call stacks. Ensure your UI/state logic is safe to run re-entrantly.\n",
    "- Don’t use it to “skip” correctness checks; it doesn’t bypass cancellation or structured concurrency rules.\n",
    "\n",
    "Illustrative examples (do not run in this notebook):\n",
    "\n",
    "```kotlin\n",
    "// Android example (requires kotlinx-coroutines-android)\n",
    "class MyViewModel : ViewModel() {\n",
    "    private val vmScope = viewModelScope // already on Main by default\n",
    "\n",
    "    fun onButtonClick() {\n",
    "        // Will execute inline if on Main, or dispatch to Main otherwise\n",
    "        vmScope.launch(Dispatchers.Main.immediate) {\n",
    "            // Update UI state right away\n",
    "            _uiState.value = _uiState.value.copy(loading = true)\n",
    "\n",
    "            // Perform work off main, then come back\n",
    "            val data = withContext(Dispatchers.IO) { repo.load() }\n",
    "            _uiState.value = _uiState.value.copy(loading = false, data = data)\n",
    "        }\n",
    "    }\n",
    "}\n",
    "```\n",
    "\n",
    "```kotlin\n",
    "// Swing example (requires kotlinx-coroutines-swing)\n",
    "val uiScope = CoroutineScope(SupervisorJob() + Dispatchers.Main)\n",
    "\n",
    "fun onMenuAction() {\n",
    "    // If this runs on the EDT already, code inside runs immediately\n",
    "    uiScope.launch(Dispatchers.Main.immediate) {\n",
    "        statusLabel.text = \"Working...\"\n",
    "        val result = withContext(Dispatchers.IO) { doBlockingWork() }\n",
    "        statusLabel.text = \"Done: $result\"\n",
    "    }\n",
    "}\n",
    "```\n",
    "\n",
    "Takeaways:\n",
    "- Prefer Dispatchers.Main for general UI code; switch to Dispatchers.Main.immediate when you specifically want to avoid the extra dispatch while still staying on Main.\n",
    "- Test for re-entrancy hazards when adopting Main.immediate in complex UI flows.\n",
    "\n"
   ]
  },
  {
   "metadata": {},
   "cell_type": "markdown",
   "source": [
    "## Appendix: The Android event loop (Looper/MessageQueue) and coroutines\n",
    "\n",
    "This notebook runs on the plain JVM, but when we talk about Dispatchers.Main (and Dispatchers.Main.immediate) we implicitly refer to the Android main thread’s event loop. Here’s what that means and why it matters.\n",
    "\n",
    "- Main thread and Looper:\n",
    "  - Android creates a single UI thread (often called the Main thread). That thread runs a Looper, which repeatedly pulls tasks from a MessageQueue and executes them.\n",
    "  - Apps enqueue work to that queue via Handler (legacy) or higher-level APIs (e.g., View.post, Activity.runOnUiThread, lifecycleScope.launch on Main, etc.).\n",
    "\n",
    "- Message vs Runnable and posting:\n",
    "  - A Handler associated with Looper.getMainLooper() can post Runnables or send Messages to the queue.\n",
    "  - Posting schedules the work to run “later” on the main thread in FIFO order relative to other posted items at the same time slice.\n",
    "\n",
    "- Choreographer and frames (why latency matters):\n",
    "  - Rendering is paced by Choreographer, which schedules frame callbacks (input, animation, traversal, draw) roughly every 16.6 ms on 60 Hz devices.\n",
    "  - Extra hops (additional posts to the queue) can push UI work to the next frame, causing visible jank. Minimizing unnecessary dispatches helps keep updates within the same frame.\n",
    "\n",
    "- How coroutines reach Android’s main thread:\n",
    "  - Dispatchers.Main on Android is implemented via a Handler bound to Looper.getMainLooper() (from kotlinx-coroutines-android).\n",
    "  - Launching or resuming a coroutine on Dispatchers.Main posts its continuation to the main MessageQueue.\n",
    "\n",
    "- What Dispatchers.Main.immediate changes:\n",
    "  - If your coroutine is already running on the main thread, Main.immediate resumes the continuation immediately (inline), instead of posting another Runnable to the queue.\n",
    "  - If you’re not on main, it behaves like Dispatchers.Main and posts to the main queue.\n",
    "  - Benefit: avoids one extra scheduling hop, improving latency on hot UI paths.\n",
    "  - Caveat: re-entrancy — inline execution can re-enter current call stacks sooner than expected. Ensure your logic is safe for this.\n",
    "\n",
    "- Ordering and fairness notes:\n",
    "  - A normal post goes behind already-queued work for that Looper, so it might run in a later turn of the event loop.\n",
    "  - Main.immediate, when already on main, runs now, which can change the relative ordering compared to code that expects a posted turn. Use intentionally and document assumptions.\n",
    "\n",
    "Illustrative snippets (do not run in this notebook):\n",
    "\n",
    "```kotlin\n",
    "// 1) Posting work to the Android main thread using a Handler\n",
    "val mainHandler = Handler(Looper.getMainLooper())\n",
    "mainHandler.post {\n",
    "    // Runs on the main thread in a future loop turn\n",
    "    textView.text = \"Hello\"\n",
    "}\n",
    "```\n",
    "\n",
    "```kotlin\n",
    "// 2) Coroutines: Dispatchers.Main vs Main.immediate\n",
    "class MyViewModel : ViewModel() {\n",
    "    fun onClick() {\n",
    "        // Both target the main thread; immediate avoids an extra post if already on main\n",
    "        viewModelScope.launch(Dispatchers.Main) {\n",
    "            // Will be posted to the queue even if we're already on main\n",
    "            _uiState.value = _uiState.value.copy(loading = true)\n",
    "        }\n",
    "        viewModelScope.launch(Dispatchers.Main.immediate) {\n",
    "            // Will run inline if we're already on main\n",
    "            _uiState.value = _uiState.value.copy(loading = true)\n",
    "        }\n",
    "    }\n",
    "}\n",
    "```\n",
    "\n",
    "```kotlin\n",
    "// 3) Frame timing with Choreographer (conceptual example)\n",
    "Choreographer.getInstance().postFrameCallback { frameTimeNanos ->\n",
    "    // Called every frame; extra dispatches can push this work to the next frame\n",
    "    // Prefer immediate updates when already on main to avoid extra latency\n",
    "}\n",
    "```\n",
    "\n",
    "Takeaways:\n",
    "- The Android main thread processes a queue via Looper/MessageQueue; posting adds a hop.\n",
    "- Dispatchers.Main posts coroutine continuations to that queue.\n",
    "- Dispatchers.Main.immediate skips the extra post when already on main, reducing latency but introducing re-entrancy considerations.\n"
   ]
  }
 ],
 "metadata": {
  "kernelspec": {
   "display_name": "Kotlin",
   "language": "kotlin",
   "name": "kotlin"
  },
  "language_info": {
   "name": "kotlin",
   "version": "2.2.20-Beta2",
   "mimetype": "text/x-kotlin",
   "file_extension": ".kt",
   "pygments_lexer": "kotlin",
   "codemirror_mode": "text/x-kotlin",
   "nbconvert_exporter": ""
  }
 },
 "nbformat": 4,
 "nbformat_minor": 0
}
