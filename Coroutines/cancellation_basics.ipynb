{
 "cells": [
  {
   "cell_type": "code",
   "metadata": {
    "collapsed": true,
    "ExecuteTime": {
     "end_time": "2025-09-27T18:32:02.789594Z",
     "start_time": "2025-09-27T18:32:02.549642Z"
    }
   },
   "source": "@file:DependsOn(\"org.jetbrains.kotlinx:kotlinx-coroutines-core:1.8.1\")",
   "outputs": [],
   "execution_count": 1
  },
  {
   "metadata": {},
   "cell_type": "markdown",
   "source": [
    "Overview: This notebook shows four variants of a tight loop and how they react to cancellation:\n",
    "- No cancellation checks or suspension: cancel has no effect; loop runs to completion.\n",
    "- While condition checks isActive: cooperative cancellation when requested.\n",
    "- ensureActive() inside loop: throws CancellationException promptly when canceled.\n",
    "- yield() inside loop: adds a suspension point, most CPU-friendly and responsive."
   ]
  },
  {
   "metadata": {},
   "cell_type": "markdown",
   "source": "This first example is a tight busy loop inside runBlocking that prints \"Hello i\" roughly every 500 ms. It never suspends (no delay/yield), so it fully occupies the thread until it finishes. There is no cancellation check here, so once started it will run until i reaches the limit."
  },
  {
   "metadata": {},
   "cell_type": "code",
   "outputs": [],
   "execution_count": null,
   "source": [
    "import kotlinx.coroutines.runBlocking\n",
    "import kotlinx.coroutines.Dispatchers\n",
    "import kotlinx.coroutines.delay\n",
    "import kotlinx.coroutines.launch\n",
    "\n",
    "runBlocking {\n",
    "    val startTime = System.currentTimeMillis()\n",
    "    val job = launch(Dispatchers.Default) {\n",
    "        var nextPrintTime = startTime\n",
    "        var i = 0\n",
    "        while (i < 5) {\n",
    "            if (System.currentTimeMillis() >= nextPrintTime) {\n",
    "                println(\"Hello ${i++}\")\n",
    "                nextPrintTime += 500L\n",
    "            }\n",
    "        }\n",
    "    }\n",
    "    delay(1000L)\n",
    "    println(\"Cancel!\")\n",
    "    job.cancel()\n",
    "    println(\"Done!\")\n",
    "}"
   ]
  },
  {
   "metadata": {},
   "cell_type": "markdown",
   "source": "Here we move the busy loop into a launched coroutine on Dispatchers.Default and cooperatively check isActive in the while condition. The parent delays for 1 second, prints \"Cancel!\", then cancels the Job. Because the loop checks isActive and still doesn’t suspend, it will stop promptly once cancellation is requested, but it can still spin CPU between prints."
  },
  {
   "metadata": {},
   "cell_type": "code",
   "outputs": [],
   "execution_count": null,
   "source": [
    "import kotlinx.coroutines.Dispatchers\n",
    "import kotlinx.coroutines.delay\n",
    "import kotlinx.coroutines.isActive\n",
    "import kotlinx.coroutines.launch\n",
    "import kotlinx.coroutines.runBlocking\n",
    "\n",
    "runBlocking {\n",
    "    val startTime = System.currentTimeMillis()\n",
    "    val job = launch(Dispatchers.Default) {\n",
    "        var nextPrintTime = startTime\n",
    "        var i = 0\n",
    "        while (i < 5 && isActive) {\n",
    "            if (System.currentTimeMillis() >= nextPrintTime) {\n",
    "                println(\"Hello ${i++}\")\n",
    "                nextPrintTime += 500L\n",
    "            }\n",
    "        }\n",
    "    }\n",
    "    delay(1000L)\n",
    "    println(\"Cancel!\")\n",
    "    job.cancel()\n",
    "    println(\"Done!\")\n",
    "}"
   ]
  },
  {
   "metadata": {},
   "cell_type": "markdown",
   "source": "This variant uses ensureActive() inside the loop. It throws CancellationException if the coroutine was canceled, immediately unwinding the coroutine. It’s still a busy loop (no suspension), but now cancellation is enforced even if you forget to check isActive in the while condition."
  },
  {
   "metadata": {},
   "cell_type": "code",
   "outputs": [],
   "execution_count": null,
   "source": [
    "import kotlinx.coroutines.Dispatchers\n",
    "import kotlinx.coroutines.delay\n",
    "import kotlinx.coroutines.ensureActive\n",
    "import kotlinx.coroutines.isActive\n",
    "import kotlinx.coroutines.launch\n",
    "import kotlinx.coroutines.runBlocking\n",
    "\n",
    "runBlocking {\n",
    "    val startTime = System.currentTimeMillis()\n",
    "    val job = launch(Dispatchers.Default) {\n",
    "        var nextPrintTime = startTime\n",
    "        var i = 0\n",
    "        while (i < 5) {\n",
    "            ensureActive()\n",
    "            if (System.currentTimeMillis() >= nextPrintTime) {\n",
    "                println(\"Hello ${i++}\")\n",
    "                nextPrintTime += 500L\n",
    "            }\n",
    "        }\n",
    "    }\n",
    "    delay(1000L)\n",
    "    println(\"Cancel!\")\n",
    "    job.cancel()\n",
    "    println(\"Done!\")\n",
    "}"
   ]
  },
  {
   "metadata": {},
   "cell_type": "markdown",
   "source": "Finally, yield() inserts an explicit suspension point inside the loop. Suspension gives other coroutines (including the canceller) a chance to run and promptly delivers the cancellation signal. This is the most CPU-friendly and responsive approach for loops that can cooperate."
  },
  {
   "metadata": {
    "ExecuteTime": {
     "end_time": "2025-09-27T19:24:48.390598Z",
     "start_time": "2025-09-27T19:24:47.302239Z"
    }
   },
   "cell_type": "code",
   "source": [
    "import kotlinx.coroutines.Dispatchers\n",
    "import kotlinx.coroutines.delay\n",
    "import kotlinx.coroutines.ensureActive\n",
    "import kotlinx.coroutines.isActive\n",
    "import kotlinx.coroutines.launch\n",
    "import kotlinx.coroutines.runBlocking\n",
    "import kotlinx.coroutines.yield\n",
    "\n",
    "runBlocking {\n",
    "    val startTime = System.currentTimeMillis()\n",
    "    val job = launch(Dispatchers.Default) {\n",
    "        var nextPrintTime = startTime\n",
    "        var i = 0\n",
    "        while (i < 5) {\n",
    "            yield()\n",
    "            if (System.currentTimeMillis() >= nextPrintTime) {\n",
    "                println(\"Hello ${i++}\")\n",
    "                nextPrintTime += 500L\n",
    "            }\n",
    "        }\n",
    "    }\n",
    "    delay(1000L)\n",
    "    println(\"Cancel!\")\n",
    "    job.cancel()\n",
    "    println(\"Done!\")\n",
    "}"
   ],
   "outputs": [
    {
     "name": "stdout",
     "output_type": "stream",
     "text": [
      "Hello 0\n",
      "Hello 1\n",
      "Hello 2\n",
      "Cancel!\n",
      "Done!\n"
     ]
    }
   ],
   "execution_count": 15
  },
  {
   "metadata": {
    "ExecuteTime": {
     "end_time": "2025-09-27T19:24:43.378164Z",
     "start_time": "2025-09-27T19:24:42.231334Z"
    }
   },
   "cell_type": "code",
   "source": [
    "import kotlinx.coroutines.Dispatchers\n",
    "import kotlinx.coroutines.delay\n",
    "import kotlinx.coroutines.ensureActive\n",
    "import kotlinx.coroutines.isActive\n",
    "import kotlinx.coroutines.launch\n",
    "import kotlinx.coroutines.runBlocking\n",
    "import kotlinx.coroutines.yield\n",
    "\n",
    "runBlocking {\n",
    "    val job = launch(Dispatchers.Default) {\n",
    "        repeat(5) {\n",
    "            println(\"Hello ${it}\")\n",
    "            delay(500L)\n",
    "        }\n",
    "    }\n",
    "    delay(1000L)\n",
    "    println(\"Cancel!\")\n",
    "    job.cancel()\n",
    "    println(\"Done!\")\n",
    "}"
   ],
   "outputs": [
    {
     "name": "stdout",
     "output_type": "stream",
     "text": [
      "Hello 0\n",
      "Hello 1\n",
      "Cancel!\n",
      "Done!\n"
     ]
    }
   ],
   "execution_count": 14
  },
  {
   "metadata": {
    "ExecuteTime": {
     "end_time": "2025-09-27T19:46:18.594365Z",
     "start_time": "2025-09-27T19:46:18.464191Z"
    }
   },
   "cell_type": "code",
   "source": [
    "import kotlinx.coroutines.withContext\n",
    "\n",
    "suspend fun otherWork() {\n",
    "    println(\"other work\")\n",
    "}\n",
    "\n",
    "suspend fun someOtherWork() {\n",
    "    println(\"someOtherWork\")\n",
    "}\n",
    "\n",
    "\n",
    "suspend fun workOne() = withContext(Dispatchers.IO) {\n",
    "    println(\"Working one start\")\n",
    "    otherWork()\n",
    "    yield()\n",
    "    someOtherWork()\n",
    "    println(\"Working one end\")\n",
    "}\n",
    "\n",
    "suspend fun workTwo() = withContext(Dispatchers.IO) {\n",
    "    println(\"Working two start\")\n",
    "    otherWork()\n",
    "    yield()\n",
    "    someOtherWork()\n",
    "    println(\"Working two end\")\n",
    "}"
   ],
   "outputs": [],
   "execution_count": 21
  },
  {
   "metadata": {
    "ExecuteTime": {
     "end_time": "2025-09-27T19:46:21.844160Z",
     "start_time": "2025-09-27T19:46:21.790955Z"
    }
   },
   "cell_type": "code",
   "source": [
    "runBlocking {\n",
    "    val job = launch {\n",
    "        workOne()\n",
    "        yield() // or ensureActive()\n",
    "        workTwo()\n",
    "    }\n",
    " }"
   ],
   "outputs": [
    {
     "name": "stdout",
     "output_type": "stream",
     "text": [
      "Working one start\n",
      "other work\n",
      "someOtherWork\n",
      "Working one end\n",
      "Working two start\n",
      "other work\n",
      "someOtherWork\n",
      "Working two end\n"
     ]
    }
   ],
   "execution_count": 22
  },
  {
   "metadata": {
    "ExecuteTime": {
     "end_time": "2025-09-27T19:46:33.789037Z",
     "start_time": "2025-09-27T19:46:33.743948Z"
    }
   },
   "cell_type": "code",
   "source": [
    "runBlocking {\n",
    "    val job = launch {\n",
    "        workOne()\n",
    "        ensureActive()\n",
    "        workTwo()\n",
    "    }\n",
    " }"
   ],
   "outputs": [
    {
     "name": "stdout",
     "output_type": "stream",
     "text": [
      "Working one start\n",
      "other work\n",
      "someOtherWork\n",
      "Working one end\n",
      "Working two start\n",
      "other work\n",
      "someOtherWork\n",
      "Working two end\n"
     ]
    }
   ],
   "execution_count": 23
  }
 ],
 "metadata": {
  "kernelspec": {
   "display_name": "Kotlin",
   "language": "kotlin",
   "name": "kotlin"
  },
  "language_info": {
   "name": "kotlin",
   "version": "2.2.20-Beta2",
   "mimetype": "text/x-kotlin",
   "file_extension": ".kt",
   "pygments_lexer": "kotlin",
   "codemirror_mode": "text/x-kotlin",
   "nbconvert_exporter": ""
  }
 },
 "nbformat": 4,
 "nbformat_minor": 0
}
