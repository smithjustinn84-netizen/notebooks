{
 "cells": [
  {
   "metadata": {},
   "cell_type": "markdown",
   "source": [
    "# Kotlin Coroutines: SupervisorJob and supervisorScope\n",
    "\n",
    "This notebook explains what SupervisorJob and supervisorScope are, when to use them, and how they differ from regular Job and coroutineScope. Each section includes small runnable examples.\n",
    "\n",
    "Key idea: In a supervisor, one child’s failure does not cancel its siblings. In regular structured concurrency, a child failure cancels the whole family.\n"
   ]
  },
  {
   "metadata": {
    "ExecuteTime": {
     "end_time": "2025-09-27T21:40:44.592148Z",
     "start_time": "2025-09-27T21:40:44.493671Z"
    }
   },
   "cell_type": "code",
   "source": "@file:DependsOn(\"org.jetbrains.kotlinx:kotlinx-coroutines-core:1.8.1\")",
   "outputs": [],
   "execution_count": 3
  },
  {
   "metadata": {},
   "cell_type": "markdown",
   "source": [
    "## 1) The problem: child failure cancels siblings by default\n",
    "With a regular Job (or inside coroutineScope), if one child fails, the parent gets canceled and all other children are canceled too.\n",
    "\n",
    "The example below shows that Task B never finishes because Task A throws."
   ]
  },
  {
   "metadata": {
    "ExecuteTime": {
     "end_time": "2025-09-27T21:40:45.072230Z",
     "start_time": "2025-09-27T21:40:44.599314Z"
    }
   },
   "cell_type": "code",
   "source": [
    "import kotlinx.coroutines.*\n",
    "\n",
    "runBlocking {\n",
    "    try {\n",
    "        coroutineScope { // regular, non-supervised\n",
    "            launch {\n",
    "                delay(100)\n",
    "                println(\"[regular] A: about to fail\")\n",
    "                throw RuntimeException(\"Boom from A\")\n",
    "            }\n",
    "            launch {\n",
    "                try {\n",
    "                    delay(300)\n",
    "                    println(\"[regular] B: finished (won't happen)\")\n",
    "                } finally {\n",
    "                    println(\"[regular] B: finally (canceled)\")\n",
    "                }\n",
    "            }\n",
    "        }\n",
    "    } catch (e: Throwable) {\n",
    "        println(\"[regular] Parent caught: ${e::class.simpleName} -> ${e.message}\")\n",
    "    }\n",
    "    println(\"[regular] After coroutineScope\")\n",
    "}\n"
   ],
   "outputs": [
    {
     "name": "stdout",
     "output_type": "stream",
     "text": [
      "[regular] A: about to fail\n",
      "[regular] B: finally (canceled)\n",
      "[regular] Parent caught: RuntimeException -> Boom from A\n",
      "[regular] After coroutineScope\n"
     ]
    }
   ],
   "execution_count": 4
  },
  {
   "metadata": {},
   "cell_type": "markdown",
   "source": [
    "## 2) supervisorScope: isolate children from each other\n",
    "supervisorScope creates a scope where failure of one child does not cancel its siblings. The scope still completes exceptionally with the first failure (unless you handle it), but it waits for all children to finish first.\n",
    "\n",
    "Below, A fails; B still completes; the parent then observes the exception after both are done."
   ]
  },
  {
   "metadata": {
    "ExecuteTime": {
     "end_time": "2025-09-27T21:40:45.544138Z",
     "start_time": "2025-09-27T21:40:45.099956Z"
    }
   },
   "cell_type": "code",
   "source": [
    "import kotlinx.coroutines.*\n",
    "\n",
    "runBlocking {\n",
    "    try {\n",
    "        supervisorScope {\n",
    "            launch {\n",
    "                delay(100)\n",
    "                println(\"[supervisorScope] A: about to fail\")\n",
    "                throw RuntimeException(\"Boom from A\")\n",
    "            }\n",
    "            launch {\n",
    "                try {\n",
    "                    delay(300)\n",
    "                    println(\"[supervisorScope] B: finished (still runs)\")\n",
    "                } finally {\n",
    "                    println(\"[supervisorScope] B: finally\")\n",
    "                }\n",
    "            }\n",
    "        }\n",
    "    } catch (e: Throwable) {\n",
    "        println(\"[supervisorScope] Parent caught: ${e::class.simpleName} -> ${e.message}\")\n",
    "    }\n",
    "    println(\"[supervisorScope] After supervisorScope\")\n",
    "}\n"
   ],
   "outputs": [
    {
     "name": "stdout",
     "output_type": "stream",
     "text": [
      "[supervisorScope] A: about to fail\n",
      "[supervisorScope] B: finished (still runs)\n",
      "[supervisorScope] B: finally\n",
      "[supervisorScope] After supervisorScope\n"
     ]
    }
   ],
   "execution_count": 5
  },
  {
   "metadata": {},
   "cell_type": "markdown",
   "source": [
    "## 3) SupervisorJob: a Job with supervisor semantics for a CoroutineScope\n",
    "SupervisorJob is a Job implementation you put into a CoroutineScope to get supervisor semantics for all children launched in that scope. A child failure:\n",
    "- does NOT cancel the scope\n",
    "- does NOT cancel its siblings\n",
    "- is reported to a CoroutineExceptionHandler (if uncaught)\n",
    "\n",
    "You typically combine it with a handler to observe failures."
   ]
  },
  {
   "metadata": {
    "ExecuteTime": {
     "end_time": "2025-09-27T21:40:46.086233Z",
     "start_time": "2025-09-27T21:40:45.563003Z"
    }
   },
   "cell_type": "code",
   "source": [
    "import kotlinx.coroutines.*\n",
    "\n",
    "val handler = CoroutineExceptionHandler { _, e ->\n",
    "    println(\"[SupervisorJob] Caught by handler: ${e::class.simpleName} -> ${e.message}\")\n",
    "}\n",
    "\n",
    "val supervisedScope = CoroutineScope(SupervisorJob() + Dispatchers.Default + handler)\n",
    "\n",
    "runBlocking {\n",
    "    val a = supervisedScope.launch {\n",
    "        delay(100)\n",
    "        println(\"[SupervisorJob] A: about to fail\")\n",
    "        throw RuntimeException(\"Boom from A\")\n",
    "    }\n",
    "    val b = supervisedScope.launch {\n",
    "        try {\n",
    "            delay(300)\n",
    "            println(\"[SupervisorJob] B: finished (not canceled)\")\n",
    "        } finally {\n",
    "            println(\"[SupervisorJob] B: finally\")\n",
    "        }\n",
    "    }\n",
    "\n",
    "    // Wait for both children\n",
    "    joinAll(a, b)\n",
    "    println(\"[SupervisorJob] Both children joined; scope is still active = ${supervisedScope.isActive}\")\n",
    "}\n"
   ],
   "outputs": [
    {
     "name": "stdout",
     "output_type": "stream",
     "text": [
      "[SupervisorJob] A: about to fail\n",
      "[SupervisorJob] Caught by handler: RuntimeException -> Boom from A\n",
      "[SupervisorJob] B: finished (not canceled)\n",
      "[SupervisorJob] B: finally\n",
      "[SupervisorJob] Both children joined; scope is still active = true\n"
     ]
    }
   ],
   "execution_count": 6
  },
  {
   "metadata": {},
   "cell_type": "markdown",
   "source": [
    "## 4) Cancellation still flows downward\n",
    "Even with supervisor semantics, canceling the parent scope cancels all its children."
   ]
  },
  {
   "metadata": {
    "ExecuteTime": {
     "end_time": "2025-09-27T21:40:46.460044Z",
     "start_time": "2025-09-27T21:40:46.091872Z"
    }
   },
   "cell_type": "code",
   "source": [
    "import kotlinx.coroutines.*\n",
    "\n",
    "val cancelScope = CoroutineScope(SupervisorJob())\n",
    "\n",
    "runBlocking {\n",
    "    val job = cancelScope.launch {\n",
    "        launch { try { delay(1_000); println(\"[cancel] Child 1 done\") } finally { println(\"[cancel] Child 1 finally\") } }\n",
    "        launch { try { delay(1_000); println(\"[cancel] Child 2 done\") } finally { println(\"[cancel] Child 2 finally\") } }\n",
    "    }\n",
    "    delay(200)\n",
    "    println(\"[cancel] Cancel parent scope\")\n",
    "    cancelScope.cancel()\n",
    "    job.join()\n",
    "    println(\"[cancel] Parent canceled; children are canceled too\")\n",
    "}\n"
   ],
   "outputs": [
    {
     "name": "stdout",
     "output_type": "stream",
     "text": [
      "[cancel] Cancel parent scope\n",
      "[cancel] Child 1 finally\n",
      "[cancel] Child 2 finally\n",
      "[cancel] Parent canceled; children are canceled too\n"
     ]
    }
   ],
   "execution_count": 7
  },
  {
   "metadata": {},
   "cell_type": "markdown",
   "source": [
    "## 5) Quick guidelines\n",
    "- Use supervisorScope for a small region where siblings must be isolated from each other, but where the region should still fail overall if any child fails (after waiting for others).\n",
    "- Use a CoroutineScope(SupervisorJob()) when you need a long-lived scope (e.g., UI ViewModel, service) where one child’s failure should not bring down its siblings or the scope.\n",
    "- Always attach a CoroutineExceptionHandler when using SupervisorJob if you don’t handle exceptions in children explicitly, to avoid silent failures."
   ]
  }
 ],
 "metadata": {
  "kernelspec": {
   "display_name": "Kotlin",
   "language": "kotlin",
   "name": "kotlin"
  },
  "language_info": {
   "name": "kotlin",
   "version": "2.2.20-Beta2",
   "mimetype": "text/x-kotlin",
   "file_extension": ".kt",
   "pygments_lexer": "kotlin",
   "codemirror_mode": "text/x-kotlin",
   "nbconvert_exporter": ""
  }
 },
 "nbformat": 4,
 "nbformat_minor": 0
}
