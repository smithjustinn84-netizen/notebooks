{
 "cells": [
  {
   "metadata": {},
   "cell_type": "markdown",
   "source": [
    "# Kotlin Coroutines: suspend functions explained\n",
    "\n",
    "In this notebook you will learn:\n",
    "- What a suspend function is and how suspension works.\n",
    "- How to define and call suspend functions correctly.\n",
    "- When to use suspend functions (and when not to).\n",
    "- Practical patterns: switching dispatchers with `withContext`, composing work sequentially vs. in parallel, cancellation, exception handling, and wrapping callbacks.\n"
   ]
  },
  {
   "metadata": {},
   "cell_type": "code",
   "outputs": [],
   "execution_count": null,
   "source": "@file:DependsOn(\"org.jetbrains.kotlinx:kotlinx-coroutines-core:1.8.1\")\n"
  },
  {
   "metadata": {},
   "cell_type": "markdown",
   "source": [
    "## Imports\n",
    "We'll import the core coroutines package so that `delay`, `launch`, `async`, etc. are available.\n"
   ]
  },
  {
   "metadata": {},
   "cell_type": "code",
   "outputs": [],
   "execution_count": null,
   "source": [
    "import kotlinx.coroutines.*\n",
    "import kotlin.system.measureTimeMillis\n",
    "import java.io.File\n"
   ]
  },
  {
   "metadata": {},
   "cell_type": "markdown",
   "source": [
    "## 1) What is a suspend function?\n",
    "A `suspend` function is a function that can pause without blocking the underlying thread, and resume later. The pause point is called a suspension point (e.g., `delay`, I/O, waiting on another coroutine, etc.).\n",
    "\n",
    "Key properties:\n",
    "- Non-blocking: the thread is free to run other coroutines while waiting.\n",
    "- Must run in a coroutine: you can only call a `suspend` function from another `suspend` function or a coroutine builder like `runBlocking`, `launch`, or `async`.\n",
    "- Cancellation-aware: well-behaved suspend functions are cooperative and respond to cancellation promptly.\n"
   ]
  },
  {
   "metadata": {},
   "cell_type": "markdown",
   "source": "### Example: a simple suspend function\n"
  },
  {
   "metadata": {},
   "cell_type": "code",
   "outputs": [],
   "execution_count": null,
   "source": [
    "suspend fun fetchUserName(): String {\n",
    "    delay(200) // pretend to do network or database work\n",
    "    return \"Alice\"\n",
    "}\n",
    "\n",
    "runBlocking {\n",
    "    val name = fetchUserName()\n",
    "    println(\"Hello, $name!\")\n",
    "}\n"
   ]
  },
  {
   "metadata": {},
   "cell_type": "markdown",
   "source": [
    "## 2) Suspension vs blocking\n",
    "Contrast `delay` (suspends without blocking) with `Thread.sleep` (blocks the thread).\n"
   ]
  },
  {
   "metadata": {},
   "cell_type": "code",
   "outputs": [],
   "execution_count": null,
   "source": [
    "fun blockingSleepExample() {\n",
    "    val t = measureTimeMillis {\n",
    "        Thread.sleep(300) // blocks the current thread\n",
    "    }\n",
    "    println(\"Blocking slept for ${'$'}t ms (thread was occupied)\")\n",
    "}\n",
    "\n",
    "runBlocking {\n",
    "    val t = measureTimeMillis {\n",
    "        delay(300) // suspends only the coroutine, thread is free\n",
    "    }\n",
    "    println(\"Suspended for ${'$'}t ms (thread could do other work)\")\n",
    "}\n",
    "\n",
    "blockingSleepExample()\n"
   ]
  },
  {
   "metadata": {},
   "cell_type": "markdown",
   "source": [
    "## 3) Creating and calling suspend functions\n",
    "Rules of thumb:\n",
    "- You can call `suspend` functions only from other `suspend` functions or from inside a coroutine builder (`runBlocking`, `launch`, `async`, etc.).\n",
    "- Prefer small, single-responsibility suspend functions composed together.\n",
    "- Make them cancellation-friendly (avoid swallowing `CancellationException`; use `ensureActive()` if looping).\n"
   ]
  },
  {
   "metadata": {},
   "cell_type": "markdown",
   "source": [
    "### Example: using withContext to switch threads for blocking I/O\n",
    "Use `withContext(Dispatchers.IO)` to move blocking work off the main/default thread pool.\n"
   ]
  },
  {
   "metadata": {},
   "cell_type": "code",
   "outputs": [],
   "execution_count": null,
   "source": [
    "suspend fun readFileText(path: String): String = withContext(Dispatchers.IO) {\n",
    "    File(path).takeIf { it.exists() }?.readText() ?: \"<missing>\"\n",
    "}\n",
    "\n",
    "runBlocking {\n",
    "    val tmp = kotlin.io.path.createTempFile().toFile()\n",
    "    tmp.writeText(\"Hello from disk!\")\n",
    "    println(readFileText(tmp.absolutePath))\n",
    "}\n"
   ]
  },
  {
   "metadata": {},
   "cell_type": "markdown",
   "source": [
    "## 4) Sequential vs parallel composition\n",
    "Use plain calls for sequential steps; use `async/await` for concurrent, independent work.\n"
   ]
  },
  {
   "metadata": {},
   "cell_type": "code",
   "outputs": [],
   "execution_count": null,
   "source": [
    "suspend fun fetchUser(): String { delay(200); return \"user#42\" }\n",
    "suspend fun fetchPosts(user: String): List<String> { delay(300); return listOf(\"post-1 of $user\", \"post-2 of $user\") }\n",
    "suspend fun fetchRecommendations(): List<String> { delay(250); return listOf(\"rec-1\", \"rec-2\") }\n",
    "\n",
    "runBlocking {\n",
    "    val sequential = measureTimeMillis {\n",
    "        val user = fetchUser()\n",
    "        val posts = fetchPosts(user) // depends on user → sequential\n",
    "        val recs = fetchRecommendations() // independent but still sequential here\n",
    "        println(\"sequential → posts=${'$'}posts, recs=${'$'}recs\")\n",
    "    }\n",
    "\n",
    "    val parallel = measureTimeMillis {\n",
    "        val user = fetchUser()\n",
    "        val postsDeferred = async { fetchPosts(user) } // can run in parallel\n",
    "        val recsDeferred = async { fetchRecommendations() }\n",
    "        val posts = postsDeferred.await()\n",
    "        val recs = recsDeferred.await()\n",
    "        println(\"parallel → posts=${'$'}posts, recs=${'$'}recs\")\n",
    "    }\n",
    "\n",
    "    println(\"sequential took ${'$'}sequential ms; parallel took ${'$'}parallel ms\")\n",
    "}\n"
   ]
  },
  {
   "metadata": {},
   "cell_type": "markdown",
   "source": [
    "## 5) Cancellation basics for suspend functions\n",
    "Suspend functions should be cooperative. Many suspend functions (like `delay`) check for cancellation automatically. In loops, use `coroutineContext.ensureActive()` or `yield()` to stay responsive.\n"
   ]
  },
  {
   "metadata": {},
   "cell_type": "code",
   "outputs": [],
   "execution_count": null,
   "source": [
    "suspend fun cancellableWork() {\n",
    "    repeat(1000) { i ->\n",
    "        coroutineContext.ensureActive() // throws if cancelled\n",
    "        if (i % 100 == 0) println(\"working… i=${'$'}i\")\n",
    "        delay(10)\n",
    "    }\n",
    "}\n",
    "\n",
    "runBlocking {\n",
    "    val job = launch { cancellableWork() }\n",
    "    delay(120) // let it do some work\n",
    "    println(\"Cancelling…\")\n",
    "    job.cancelAndJoin()\n",
    "    println(\"Cancelled.\")\n",
    "}\n"
   ]
  },
  {
   "metadata": {},
   "cell_type": "markdown",
   "source": [
    "## 6) Exception handling with suspend functions\n",
    "Exceptions thrown from suspend functions propagate like normal. Use `try/catch`, and remember that cancellation uses `CancellationException` (typically let it propagate).\n"
   ]
  },
  {
   "metadata": {},
   "cell_type": "code",
   "outputs": [],
   "execution_count": null,
   "source": [
    "suspend fun loadData(): String {\n",
    "    delay(50)\n",
    "    error(\"Boom!\")\n",
    "}\n",
    "\n",
    "runBlocking {\n",
    "    try {\n",
    "        loadData()\n",
    "    } catch (e: CancellationException) {\n",
    "        println(\"Cancelled: ${'$'}e\") // usually rethrow\n",
    "    } catch (e: Throwable) {\n",
    "        println(\"Failure: ${'$'}e\")\n",
    "    }\n",
    "}\n"
   ]
  },
  {
   "metadata": {},
   "cell_type": "markdown",
   "source": [
    "## 7) Wrapping callback-based APIs with suspend\n",
    "Use `suspendCancellableCoroutine` to bridge callbacks into the suspend world cleanly.\n",
    "\n",
    "> Note: this is a schematic example; adapt to your real callback API.\n"
   ]
  },
  {
   "metadata": {},
   "cell_type": "code",
   "outputs": [],
   "execution_count": null,
   "source": [
    "import kotlin.coroutines.resume\n",
    "import kotlin.coroutines.resumeWithException\n",
    "import kotlinx.coroutines.suspendCancellableCoroutine\n",
    "\n",
    "class FakeButton {\n",
    "    private var listener: (() -> Unit)? = null\n",
    "    fun setOnClickListener(l: (() -> Unit)?) { listener = l }\n",
    "    fun click() { listener?.invoke() }\n",
    "}\n",
    "\n",
    "suspend fun awaitClick(btn: FakeButton) = suspendCancellableCoroutine<Unit> { cont ->\n",
    "    val listener = {\n",
    "        if (cont.isActive) cont.resume(Unit)\n",
    "    }\n",
    "    btn.setOnClickListener(listener)\n",
    "    cont.invokeOnCancellation { btn.setOnClickListener(null) }\n",
    "}\n",
    "\n",
    "runBlocking {\n",
    "    val btn = FakeButton()\n",
    "    val job = launch {\n",
    "        println(\"Waiting for click…\")\n",
    "        awaitClick(btn)\n",
    "        println(\"Clicked!\")\n",
    "    }\n",
    "    delay(100)\n",
    "    btn.click() // simulate a click\n",
    "    job.join()\n",
    "}\n"
   ]
  },
  {
   "metadata": {},
   "cell_type": "markdown",
   "source": [
    "## 8) When to use suspend functions\n",
    "- I/O-bound operations: network calls, database queries, file I/O.\n",
    "- Waiting without work: timers, backoff, rate limits, retry delays.\n",
    "- Orchestrating async steps with structured concurrency (compose with other suspend calls).\n",
    "- Operations that should be cancellable (user navigated away, timeout, shutdown).\n",
    "\n",
    "## When NOT to use suspend functions\n",
    "- Pure CPU-bound work that does not need to suspend or be cancellable: prefer normal functions running on the caller's thread or offload with `withContext(Dispatchers.Default)` only at the call site if needed.\n",
    "- Very small synchronous operations (simple getters/formatters) — marking them `suspend` adds friction with no benefit.\n",
    "- Blocking APIs on the main thread: either keep them blocking (no `suspend`) or wrap them and switch to `Dispatchers.IO` using `withContext`.\n",
    "- Streaming/multi-value emissions over time: consider `Flow` instead of returning large lists or polling in suspend loops.\n",
    "- \"Just in case\" design: don't add `suspend` unless there's a real suspension point or a need for cancellation/context.\n",
    "\n",
    "## Design tips\n",
    "- Keep suspend APIs single-shot; use `Flow`/`Channel` for streams.\n",
    "- Use `withContext(Dispatchers.IO)` for blocking I/O; avoid doing blocking work on Default/Main.\n",
    "- Respect cancellation; avoid catching and swallowing `CancellationException`.\n",
    "- Consider timeouts with `withTimeout`/`withTimeoutOrNull` where appropriate.\n",
    "- Document threading expectations and whether the function may switch context.\n"
   ]
  }
 ],
 "metadata": {
  "kernelspec": {
   "display_name": "Kotlin",
   "language": "kotlin",
   "name": "kotlin"
  },
  "language_info": {
   "name": "kotlin",
   "version": "2.2.20-Beta2",
   "mimetype": "text/x-kotlin",
   "file_extension": ".kt",
   "pygments_lexer": "kotlin",
   "codemirror_mode": "text/x-kotlin",
   "nbconvert_exporter": ""
  }
 },
 "nbformat": 4,
 "nbformat_minor": 0
}
