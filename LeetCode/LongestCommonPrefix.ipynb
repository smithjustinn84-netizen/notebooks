{
 "cells": [
  {
   "cell_type": "code",
   "metadata": {
    "collapsed": true,
    "ExecuteTime": {
     "end_time": "2025-10-02T16:30:03.771735Z",
     "start_time": "2025-10-02T16:30:03.675661Z"
    }
   },
   "source": [
    "fun longestCommonPrefix(strs: Array<String>): String {\n",
    "    val word = strs[0]\n",
    "    val others = strs.drop(1)\n",
    "\n",
    "    word.forEachIndexed { index, c ->\n",
    "        if (others.any { it.length == index || it[index] != c }) return word.substring(0, index)\n",
    "    }\n",
    "\n",
    "    return \"\"\n",
    "}"
   ],
   "outputs": [],
   "execution_count": 28
  },
  {
   "metadata": {
    "ExecuteTime": {
     "end_time": "2025-10-02T16:30:05.232301Z",
     "start_time": "2025-10-02T16:30:05.199622Z"
    }
   },
   "cell_type": "code",
   "source": "longestCommonPrefix(arrayOf(\"flower\",\"flow\",\"flight\"))",
   "outputs": [
    {
     "data": {
      "text/plain": [
       "fl"
      ]
     },
     "execution_count": 29,
     "metadata": {},
     "output_type": "execute_result"
    }
   ],
   "execution_count": 29
  },
  {
   "metadata": {
    "ExecuteTime": {
     "end_time": "2025-10-02T16:30:16.926509Z",
     "start_time": "2025-10-02T16:30:16.897523Z"
    }
   },
   "cell_type": "code",
   "source": "longestCommonPrefix(arrayOf(\"dog\",\"racecar\",\"car\"))",
   "outputs": [
    {
     "data": {
      "text/plain": []
     },
     "execution_count": 30,
     "metadata": {},
     "output_type": "execute_result"
    }
   ],
   "execution_count": 30
  },
  {
   "metadata": {
    "ExecuteTime": {
     "end_time": "2025-10-02T16:30:26.106889Z",
     "start_time": "2025-10-02T16:30:26.070624Z"
    }
   },
   "cell_type": "code",
   "source": "longestCommonPrefix(arrayOf(\"aca\",\"cba\"))",
   "outputs": [
    {
     "data": {
      "text/plain": []
     },
     "execution_count": 31,
     "metadata": {},
     "output_type": "execute_result"
    }
   ],
   "execution_count": 31
  },
  {
   "metadata": {
    "ExecuteTime": {
     "end_time": "2025-10-02T16:30:36.978439Z",
     "start_time": "2025-10-02T16:30:36.951519Z"
    }
   },
   "cell_type": "code",
   "source": "longestCommonPrefix(arrayOf(\"aca\",\"cba\",\"abc\"))",
   "outputs": [
    {
     "data": {
      "text/plain": []
     },
     "execution_count": 32,
     "metadata": {},
     "output_type": "execute_result"
    }
   ],
   "execution_count": 32
  }
 ],
 "metadata": {
  "kernelspec": {
   "display_name": "Kotlin",
   "language": "kotlin",
   "name": "kotlin"
  },
  "language_info": {
   "name": "kotlin",
   "version": "2.2.20-Beta2",
   "mimetype": "text/x-kotlin",
   "file_extension": ".kt",
   "pygments_lexer": "kotlin",
   "codemirror_mode": "text/x-kotlin",
   "nbconvert_exporter": ""
  }
 },
 "nbformat": 4,
 "nbformat_minor": 0
}
