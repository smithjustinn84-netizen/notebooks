{
 "cells": [
  {
   "cell_type": "code",
   "metadata": {
    "collapsed": true,
    "ExecuteTime": {
     "end_time": "2025-10-01T01:28:18.994682Z",
     "start_time": "2025-10-01T01:28:18.939250Z"
    }
   },
   "source": [
    "fun reverse(x: Int): Int {\n",
    "    var result = 0\n",
    "    var num = x\n",
    "    while (num != 0) {\n",
    "        val digit = num % 10\n",
    "        if (result > Int.MAX_VALUE / 10 || result < Int.MIN_VALUE / 10) return 0\n",
    "        result = result * 10 + digit\n",
    "        num /= 10\n",
    "    }\n",
    "    return result\n",
    "}"
   ],
   "outputs": [],
   "execution_count": 11
  },
  {
   "metadata": {
    "ExecuteTime": {
     "end_time": "2025-10-01T01:28:21.345553Z",
     "start_time": "2025-10-01T01:28:21.264918Z"
    }
   },
   "cell_type": "code",
   "source": [
    "// Test cases\n",
    "listOf(\n",
    "    123 to 321,\n",
    "    -123 to -321,\n",
    "    120 to 21,\n",
    "    0 to 0,\n",
    "    1534236469 to 0, // overflow\n",
    "    -2147483648 to 0  // overflow\n",
    ").forEach { (input, expected) ->\n",
    "    val result = reverse(input)\n",
    "    println(\"reverse($input) = $result ${if (result == expected) \"✓\" else \"✗ expected $expected\"}\")\n",
    "}"
   ],
   "outputs": [
    {
     "name": "stdout",
     "output_type": "stream",
     "text": [
      "reverse(123) = 321 ✓\n",
      "reverse(-123) = -321 ✓\n",
      "reverse(120) = 21 ✓\n",
      "reverse(0) = 0 ✓\n",
      "reverse(1534236469) = 0 ✓\n",
      "reverse(-2147483648) = 0 ✓\n"
     ]
    }
   ],
   "execution_count": 12
  }
 ],
 "metadata": {
  "kernelspec": {
   "display_name": "Kotlin",
   "language": "kotlin",
   "name": "kotlin"
  },
  "language_info": {
   "name": "kotlin",
   "version": "2.2.20-Beta2",
   "mimetype": "text/x-kotlin",
   "file_extension": ".kt",
   "pygments_lexer": "kotlin",
   "codemirror_mode": "text/x-kotlin",
   "nbconvert_exporter": ""
  }
 },
 "nbformat": 4,
 "nbformat_minor": 0
}
