{
 "cells": [
  {
   "metadata": {},
   "cell_type": "markdown",
   "source": [
    "The string \"PAYPALISHIRING\" is written in a zigzag pattern on a given number of rows like this: (you may want to display this pattern in a fixed font for better legibility)\n",
    "\n",
    "```\n",
    "P   A   H   N\n",
    "A P L S I I G\n",
    "Y   I   R\n",
    "```\n",
    "\n",
    "And then read line by line: \"PAHNAPLSIIGYIR\"\n",
    "\n",
    "Write the code that will take a string and make this conversion given a number of rows:\n",
    "\n",
    "string convert(string s, int numRows);\n",
    "\n",
    "\n",
    "Example 1:\n",
    "\n",
    "Input: s = \"PAYPALISHIRING\", numRows = 3\n",
    "Output: \"PAHNAPLSIIGYIR\"\n",
    "Example 2:\n",
    "\n",
    "Input: s = \"PAYPALISHIRING\", numRows = 4\n",
    "Output: \"PINALSIGYAHRPI\"\n",
    "Explanation:\n",
    "```\n",
    "P     I    N\n",
    "A   L S  I G\n",
    "Y A   H R\n",
    "P     I\n",
    "```\n",
    "\n",
    "Example 3:\n",
    "\n",
    "Input: s = \"A\", numRows = 1\n",
    "Output: \"A\"\n"
   ]
  },
  {
   "metadata": {
    "ExecuteTime": {
     "end_time": "2025-10-01T00:21:43.620370Z",
     "start_time": "2025-10-01T00:21:43.476191Z"
    }
   },
   "cell_type": "code",
   "source": [
    "enum class Direction { UP, DOWN }\n",
    "\n",
    "fun convert(s: String, numRows: Int): String {\n",
    "    if (numRows == 1) return s\n",
    "\n",
    "    val result = List(numRows) { StringBuilder() }\n",
    "    var isDown = false\n",
    "    var row = 0\n",
    "\n",
    "    for (ch in s) {\n",
    "        result[row].append(ch)\n",
    "\n",
    "        if (row == 0 || row == numRows - 1) isDown = !isDown\n",
    "\n",
    "        if (isDown) row++ else row--\n",
    "    }\n",
    "\n",
    "    return buildString {\n",
    "        for (row in result) append(row)\n",
    "    }\n",
    "}"
   ],
   "outputs": [],
   "execution_count": 33
  },
  {
   "metadata": {
    "ExecuteTime": {
     "end_time": "2025-10-01T00:21:44.772113Z",
     "start_time": "2025-10-01T00:21:44.745866Z"
    }
   },
   "cell_type": "code",
   "source": "convert(\"PAYPALISHIRING\", 3)",
   "outputs": [
    {
     "data": {
      "text/plain": [
       "PAHNAPLSIIGYIR"
      ]
     },
     "execution_count": 34,
     "metadata": {},
     "output_type": "execute_result"
    }
   ],
   "execution_count": 34
  },
  {
   "metadata": {},
   "cell_type": "code",
   "outputs": [],
   "execution_count": null,
   "source": [
    "fun convert(s: String, numRows: Int): String {\n",
    "    if (numRows == 1 || numRows >= s.length) return s\n",
    "\n",
    "    val cycleLen = 2 * numRows - 2 // 2 * 3 - 2 = 4\n",
    "    return buildString(s.length) {\n",
    "        for (row in 0 until numRows) {\n",
    "            var i = row\n",
    "            while (i < s.length) {\n",
    "                append(s[i])\n",
    "\n",
    "                // Add diagonal character (except first and last row)\n",
    "                if (row != 0 && row != numRows - 1) {\n",
    "                    val diagonalIdx = i + cycleLen - 2 * row // 1 + 4 - 2 * 0 = 5\n",
    "                    if (diagonalIdx < s.length) {\n",
    "                        append(s[diagonalIdx])\n",
    "                    }\n",
    "                }\n",
    "\n",
    "                i += cycleLen\n",
    "            }\n",
    "        }\n",
    "    }\n",
    "}"
   ]
  }
 ],
 "metadata": {
  "kernelspec": {
   "display_name": "Kotlin",
   "language": "kotlin",
   "name": "kotlin"
  },
  "language_info": {
   "name": "kotlin",
   "version": "2.2.20-Beta2",
   "mimetype": "text/x-kotlin",
   "file_extension": ".kt",
   "pygments_lexer": "kotlin",
   "codemirror_mode": "text/x-kotlin",
   "nbconvert_exporter": ""
  }
 },
 "nbformat": 4,
 "nbformat_minor": 0
}
