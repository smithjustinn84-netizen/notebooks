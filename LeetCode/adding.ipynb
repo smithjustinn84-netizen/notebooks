{
 "cells": [
  {
   "cell_type": "code",
   "execution_count": null,
   "metadata": {
    "collapsed": true
   },
   "outputs": [],
   "source": [
    "class ListNode(var `val`: Int) {\n",
    "    var next: ListNode? = null\n",
    "}\n",
    "\n",
    "fun addTwoNumbers(l1: ListNode?, l2: ListNode?): ListNode? {\n",
    "    val head = ListNode(0)\n",
    "    var l1 = l1\n",
    "    var l2 = l2\n",
    "    var carry = 0\n",
    "    while (l1 != null || l2 != null || carry != 0) {\n",
    "        var sum = 0\n",
    "\n",
    "        l1?.let {\n",
    "            sum += it.`val`\n",
    "            l1 = l1.next\n",
    "        }\n",
    "\n",
    "        l2?.let {\n",
    "            sum += it.`val`\n",
    "            l2 = l2.next\n",
    "        }\n",
    "\n",
    "\n",
    "\n",
    "\n",
    "\n",
    "    }\n",
    "    return head.next\n",
    "}"
   ]
  },
  {
   "metadata": {},
   "cell_type": "code",
   "outputs": [],
   "execution_count": null,
   "source": [
    "import kotlin.math.max\n",
    "\n",
    "fun lengthOfLongestSubstring(s: String): Int {\n",
    "    val chars = mutableMapOf<Char, Int>()\n",
    "\n",
    "    var maxLen = 0\n",
    "    var start = 0\n",
    "\n",
    "    s.forEachIndexed { end, ch ->\n",
    "        start = max(start, chars.getOrDefault(ch, 0))\n",
    "        maxLen = max(maxLen, end - start + 1)\n",
    "        chars[ch] = end+1\n",
    "    }\n",
    "    return maxLen\n",
    "}"
   ]
  },
  {
   "metadata": {
    "ExecuteTime": {
     "end_time": "2025-09-30T21:21:56.671242Z",
     "start_time": "2025-09-30T21:21:56.603249Z"
    }
   },
   "cell_type": "code",
   "source": [
    "import kotlin.math.max\n",
    "\n",
    "fun longestPalindrome(s: String): String {\n",
    "    var startMax = 0\n",
    "    var endMax = 0\n",
    "\n",
    "    fun check(start: Int, end: Int) {\n",
    "        var start = start\n",
    "        var end = end\n",
    "\n",
    "        while (start >= 0 && end < s.length && s[start] == s[end]) {\n",
    "            if (end - start + 1 > endMax - startMax + 1) {\n",
    "                startMax = start\n",
    "                endMax = end\n",
    "            }\n",
    "            // expand\n",
    "            start--\n",
    "            end++\n",
    "        }\n",
    "    }\n",
    "\n",
    "    s.forEachIndexed { index, _ ->\n",
    "        check(index, index)\n",
    "        check(index, index + 1)\n",
    "    }\n",
    "    return s.substring(startMax, endMax + 1)\n",
    "}\n",
    "\n",
    "longestPalindrome(\"abccccdd\")"
   ],
   "outputs": [
    {
     "data": {
      "text/plain": [
       "cccc"
      ]
     },
     "execution_count": 50,
     "metadata": {},
     "output_type": "execute_result"
    }
   ],
   "execution_count": 50
  },
  {
   "metadata": {
    "ExecuteTime": {
     "end_time": "2025-09-30T21:22:07.455978Z",
     "start_time": "2025-09-30T21:22:07.417789Z"
    }
   },
   "cell_type": "code",
   "source": "longestPalindrome(\"bb\")",
   "outputs": [
    {
     "data": {
      "text/plain": [
       "bb"
      ]
     },
     "execution_count": 51,
     "metadata": {},
     "output_type": "execute_result"
    }
   ],
   "execution_count": 51
  },
  {
   "metadata": {
    "ExecuteTime": {
     "end_time": "2025-09-30T21:22:08.623987Z",
     "start_time": "2025-09-30T21:22:08.604958Z"
    }
   },
   "cell_type": "code",
   "source": "longestPalindrome(\"cbbd\")",
   "outputs": [
    {
     "data": {
      "text/plain": [
       "bb"
      ]
     },
     "execution_count": 52,
     "metadata": {},
     "output_type": "execute_result"
    }
   ],
   "execution_count": 52
  },
  {
   "metadata": {
    "ExecuteTime": {
     "end_time": "2025-09-30T21:22:10.913461Z",
     "start_time": "2025-09-30T21:22:10.891392Z"
    }
   },
   "cell_type": "code",
   "source": "longestPalindrome(\"ccc\")",
   "outputs": [
    {
     "data": {
      "text/plain": [
       "ccc"
      ]
     },
     "execution_count": 53,
     "metadata": {},
     "output_type": "execute_result"
    }
   ],
   "execution_count": 53
  },
  {
   "metadata": {
    "ExecuteTime": {
     "end_time": "2025-09-30T21:22:12.028780Z",
     "start_time": "2025-09-30T21:22:12.002102Z"
    }
   },
   "cell_type": "code",
   "source": "longestPalindrome(\"a\")",
   "outputs": [
    {
     "data": {
      "text/plain": [
       "a"
      ]
     },
     "execution_count": 54,
     "metadata": {},
     "output_type": "execute_result"
    }
   ],
   "execution_count": 54
  },
  {
   "metadata": {
    "ExecuteTime": {
     "end_time": "2025-09-30T21:22:13.384414Z",
     "start_time": "2025-09-30T21:22:13.356702Z"
    }
   },
   "cell_type": "code",
   "source": "longestPalindrome(\"babad\")",
   "outputs": [
    {
     "data": {
      "text/plain": [
       "bab"
      ]
     },
     "execution_count": 55,
     "metadata": {},
     "output_type": "execute_result"
    }
   ],
   "execution_count": 55
  },
  {
   "metadata": {
    "ExecuteTime": {
     "end_time": "2025-09-30T21:41:37.180735Z",
     "start_time": "2025-09-30T21:41:37.107734Z"
    }
   },
   "cell_type": "code",
   "source": "\"asbrty\".take(2100)",
   "outputs": [
    {
     "data": {
      "text/plain": [
       "asbrty"
      ]
     },
     "execution_count": 56,
     "metadata": {},
     "output_type": "execute_result"
    }
   ],
   "execution_count": 56
  },
  {
   "metadata": {},
   "cell_type": "code",
   "outputs": [],
   "execution_count": null,
   "source": "\"aassd\".indices"
  }
 ],
 "metadata": {
  "kernelspec": {
   "display_name": "Kotlin",
   "language": "kotlin",
   "name": "kotlin"
  },
  "language_info": {
   "name": "kotlin",
   "version": "2.2.20-Beta2",
   "mimetype": "text/x-kotlin",
   "file_extension": ".kt",
   "pygments_lexer": "kotlin",
   "codemirror_mode": "text/x-kotlin",
   "nbconvert_exporter": ""
  }
 },
 "nbformat": 4,
 "nbformat_minor": 0
}
