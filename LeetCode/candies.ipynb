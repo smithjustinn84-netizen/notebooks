{
 "cells": [
  {
   "cell_type": "code",
   "metadata": {
    "collapsed": true,
    "ExecuteTime": {
     "end_time": "2025-09-30T00:04:23.856057Z",
     "start_time": "2025-09-30T00:04:23.651041Z"
    }
   },
   "source": [
    "fun kidsWithCandies(candies: IntArray, extraCandies: Int): List<Boolean> {\n",
    "    val max = candies.max()\n",
    "    return candies.map { it + extraCandies >= max }\n",
    "}"
   ],
   "outputs": [],
   "execution_count": 1
  },
  {
   "metadata": {
    "ExecuteTime": {
     "end_time": "2025-09-30T00:04:57.653303Z",
     "start_time": "2025-09-30T00:04:57.585827Z"
    }
   },
   "cell_type": "code",
   "source": "kidsWithCandies(intArrayOf(2, 3, 5, 1, 3), 3)",
   "outputs": [
    {
     "data": {
      "text/plain": [
       "[true, true, true, false, true]"
      ]
     },
     "execution_count": 2,
     "metadata": {},
     "output_type": "execute_result"
    }
   ],
   "execution_count": 2
  }
 ],
 "metadata": {
  "kernelspec": {
   "display_name": "Kotlin",
   "language": "kotlin",
   "name": "kotlin"
  },
  "language_info": {
   "name": "kotlin",
   "version": "2.2.20-Beta2",
   "mimetype": "text/x-kotlin",
   "file_extension": ".kt",
   "pygments_lexer": "kotlin",
   "codemirror_mode": "text/x-kotlin",
   "nbconvert_exporter": ""
  }
 },
 "nbformat": 4,
 "nbformat_minor": 0
}
