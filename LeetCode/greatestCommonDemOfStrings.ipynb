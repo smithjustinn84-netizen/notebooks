{
 "cells": [
  {
   "cell_type": "code",
   "metadata": {
    "collapsed": true,
    "ExecuteTime": {
     "end_time": "2025-09-29T23:00:43.077191Z",
     "start_time": "2025-09-29T23:00:42.826206Z"
    }
   },
   "source": [
    "fun gcdOfStrings(str1: String, str2: String): String {\n",
    "    if (str1 + str2 != str2 + str1) return \"\"\n",
    "\n",
    "    val l1 = str1.length\n",
    "    val l2 = str2.length\n",
    "\n",
    "    val base = min(l1, l2)\n",
    "    for (i in base downTo 1) {\n",
    "        if (l1 % i == 0 && l2 % i == 0) {\n",
    "            return str1.substring(0, i)\n",
    "        }\n",
    "    }\n",
    "    return \"\"\n",
    "}"
   ],
   "outputs": [],
   "execution_count": 1
  },
  {
   "metadata": {
    "ExecuteTime": {
     "end_time": "2025-09-29T23:00:44.594498Z",
     "start_time": "2025-09-29T23:00:44.549544Z"
    }
   },
   "cell_type": "code",
   "source": "gcdOfStrings(\"ABCABC\", \"ABC\") //ABC",
   "outputs": [
    {
     "data": {
      "text/plain": [
       "ABC"
      ]
     },
     "execution_count": 2,
     "metadata": {},
     "output_type": "execute_result"
    }
   ],
   "execution_count": 2
  },
  {
   "metadata": {
    "ExecuteTime": {
     "end_time": "2025-09-29T23:00:45.817507Z",
     "start_time": "2025-09-29T23:00:45.788037Z"
    }
   },
   "cell_type": "code",
   "source": "gcdOfStrings(\"LEET\", \"CODE\") // \"\"",
   "outputs": [
    {
     "data": {
      "text/plain": []
     },
     "execution_count": 3,
     "metadata": {},
     "output_type": "execute_result"
    }
   ],
   "execution_count": 3
  },
  {
   "metadata": {
    "ExecuteTime": {
     "end_time": "2025-09-29T23:00:47.760364Z",
     "start_time": "2025-09-29T23:00:47.730454Z"
    }
   },
   "cell_type": "code",
   "source": "gcdOfStrings(\"ABCABC\", \"ABCABC\") // \"ABCABC\"",
   "outputs": [
    {
     "data": {
      "text/plain": [
       "ABCABC"
      ]
     },
     "execution_count": 4,
     "metadata": {},
     "output_type": "execute_result"
    }
   ],
   "execution_count": 4
  }
 ],
 "metadata": {
  "kernelspec": {
   "display_name": "Kotlin",
   "language": "kotlin",
   "name": "kotlin"
  },
  "language_info": {
   "name": "kotlin",
   "version": "2.2.20-Beta2",
   "mimetype": "text/x-kotlin",
   "file_extension": ".kt",
   "pygments_lexer": "kotlin",
   "codemirror_mode": "text/x-kotlin",
   "nbconvert_exporter": ""
  }
 },
 "nbformat": 4,
 "nbformat_minor": 0
}
