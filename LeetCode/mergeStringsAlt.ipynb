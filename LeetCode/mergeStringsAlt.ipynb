{
 "cells": [
  {
   "cell_type": "code",
   "metadata": {
    "collapsed": true,
    "ExecuteTime": {
     "end_time": "2025-09-29T22:02:15.769032Z",
     "start_time": "2025-09-29T22:02:15.638840Z"
    }
   },
   "source": [
    "fun mergeAlternately(word1: String, word2: String): String {\n",
    "    return buildString {\n",
    "        val (long, short) = if (word1.length >= word2.length) word1 to word2 else word2 to word1\n",
    "        repeat(short.length) {\n",
    "            append(\"${word1[it]}${word2[it]}\")\n",
    "        }\n",
    "        append(long.substring(short.length))\n",
    "    }\n",
    "}"
   ],
   "outputs": [],
   "execution_count": 73
  },
  {
   "metadata": {
    "ExecuteTime": {
     "end_time": "2025-09-29T21:54:10.319633Z",
     "start_time": "2025-09-29T21:54:10.298734Z"
    }
   },
   "cell_type": "code",
   "source": "mergeAlternately(\"abc\", \"pqr\") //apbqcr\n",
   "outputs": [
    {
     "data": {
      "text/plain": [
       "apbqcr"
      ]
     },
     "execution_count": 70,
     "metadata": {},
     "output_type": "execute_result"
    }
   ],
   "execution_count": 70
  },
  {
   "metadata": {
    "ExecuteTime": {
     "end_time": "2025-09-29T21:54:11.356650Z",
     "start_time": "2025-09-29T21:54:11.332814Z"
    }
   },
   "cell_type": "code",
   "source": "mergeAlternately(\"ab\", \"pqrs\")",
   "outputs": [
    {
     "data": {
      "text/plain": [
       "apbqrs"
      ]
     },
     "execution_count": 71,
     "metadata": {},
     "output_type": "execute_result"
    }
   ],
   "execution_count": 71
  },
  {
   "metadata": {
    "ExecuteTime": {
     "end_time": "2025-09-29T21:54:12.488484Z",
     "start_time": "2025-09-29T21:54:12.458764Z"
    }
   },
   "cell_type": "code",
   "source": "mergeAlternately(\"abcd\", \"pq\")",
   "outputs": [
    {
     "data": {
      "text/plain": [
       "apbqcd"
      ]
     },
     "execution_count": 72,
     "metadata": {},
     "output_type": "execute_result"
    }
   ],
   "execution_count": 72
  }
 ],
 "metadata": {
  "kernelspec": {
   "display_name": "Kotlin",
   "language": "kotlin",
   "name": "kotlin"
  },
  "language_info": {
   "name": "kotlin",
   "version": "2.2.20-Beta2",
   "mimetype": "text/x-kotlin",
   "file_extension": ".kt",
   "pygments_lexer": "kotlin",
   "codemirror_mode": "text/x-kotlin",
   "nbconvert_exporter": ""
  }
 },
 "nbformat": 4,
 "nbformat_minor": 0
}
