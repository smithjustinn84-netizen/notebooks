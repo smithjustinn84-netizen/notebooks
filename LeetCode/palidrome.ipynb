{
 "cells": [
  {
   "cell_type": "code",
   "metadata": {
    "collapsed": true,
    "ExecuteTime": {
     "end_time": "2025-10-01T19:54:19.424207Z",
     "start_time": "2025-10-01T19:54:19.378682Z"
    }
   },
   "source": [
    "fun isPalindrome(x: Int): Boolean {\n",
    "    if (x < 0) return false\n",
    "    if (x < 10) return true\n",
    "\n",
    "    var rev = 0\n",
    "    var temp = x\n",
    "    while (temp > 0) {\n",
    "        val digit = temp % 10\n",
    "        rev = rev * 10 + digit\n",
    "        temp /= 10\n",
    "    }\n",
    "\n",
    "    return rev == x\n",
    "}"
   ],
   "outputs": [],
   "execution_count": 15
  },
  {
   "metadata": {
    "ExecuteTime": {
     "end_time": "2025-10-01T19:54:44.644628Z",
     "start_time": "2025-10-01T19:54:44.561315Z"
    }
   },
   "cell_type": "code",
   "source": [
    "mapOf(\n",
    "121 to true,\n",
    "-121 to false,\n",
    "10 to false,\n",
    "-101 to false,\n",
    "123456789 to false,\n",
    "1234567890 to false,\n",
    "-1234567890 to false,\n",
    "1234321 to true,\n",
    "11 to true,\n",
    "1111 to true,\n",
    ").forEach { (input, expected) ->\n",
    "    val result = isPalindrome(input) == expected\n",
    "    println(\"[${if (result) \".\" else \"X\"}] isPalindrome($input) is $result, expected $expected\")\n",
    "}"
   ],
   "outputs": [
    {
     "name": "stdout",
     "output_type": "stream",
     "text": [
      "[.] isPalindrome(121) is true, expected true\n",
      "[.] isPalindrome(-121) is true, expected false\n",
      "[.] isPalindrome(10) is true, expected false\n",
      "[.] isPalindrome(-101) is true, expected false\n",
      "[.] isPalindrome(123456789) is true, expected false\n",
      "[.] isPalindrome(1234567890) is true, expected false\n",
      "[.] isPalindrome(-1234567890) is true, expected false\n",
      "[.] isPalindrome(1234321) is true, expected true\n",
      "[.] isPalindrome(11) is true, expected true\n",
      "[.] isPalindrome(1111) is true, expected true\n"
     ]
    }
   ],
   "execution_count": 17
  },
  {
   "metadata": {},
   "cell_type": "code",
   "source": "123 / 10\n",
   "outputs": [],
   "execution_count": null
  },
  {
   "metadata": {},
   "cell_type": "code",
   "source": "123 % 10",
   "outputs": [],
   "execution_count": null
  }
 ],
 "metadata": {
  "kernelspec": {
   "display_name": "Kotlin",
   "language": "kotlin",
   "name": "kotlin"
  },
  "language_info": {
   "name": "kotlin",
   "version": "2.2.20-Beta2",
   "mimetype": "text/x-kotlin",
   "file_extension": ".kt",
   "pygments_lexer": "kotlin",
   "codemirror_mode": "text/x-kotlin",
   "nbconvert_exporter": ""
  }
 },
 "nbformat": 4,
 "nbformat_minor": 0
}
