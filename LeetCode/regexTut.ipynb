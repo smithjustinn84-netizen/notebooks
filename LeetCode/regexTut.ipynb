{
 "cells": [
  {
   "metadata": {},
   "cell_type": "code",
   "outputs": [],
   "execution_count": null,
   "source": [
    "// Kotlin Regex Basics — quick tutorial with runnable examples\n",
    "// This notebook shows the essentials of using regular expressions in Kotlin\n",
    "// using the Regex class and top-level regex helpers.\n"
   ]
  },
  {
   "metadata": {},
   "cell_type": "code",
   "outputs": [],
   "execution_count": null,
   "source": [
    "// 1) Creating Regex and simple matching\n",
    "\n",
    "// You can use a string pattern to create a Regex.\n",
    "val digits = Regex(\"\\\\d+\") // one or more digits\n",
    "\n",
    "println(digits.containsMatchIn(\"abc123xyz\")) // true — any match anywhere\n",
    "println(digits.matches(\"123\"))               // true — full string must match\n",
    "println(digits.matches(\"a123\"))              // false — not a full match\n",
    "\n",
    "// Kotlin also offers Regex.matchEntire which returns a MatchResult? for full match\n",
    "println(digits.matchEntire(\"123\") != null)   // true\n",
    "println(digits.matchEntire(\"a123\") != null)  // false\n"
   ]
  },
  {
   "metadata": {},
   "cell_type": "code",
   "outputs": [],
   "execution_count": null,
   "source": [
    "// 2) Escaping patterns: regular vs raw strings\n",
    "\n",
    "// In normal strings, backslashes must be escaped (\"\\\\d\").\n",
    "val wordNormal = Regex(\"\\\\w+\")\n",
    "\n",
    "// In raw strings (triple quotes), you can write patterns without escaping backslashes.\n",
    "val wordRaw = Regex(\"\"\"\\w+\"\"\")\n",
    "\n",
    "println(wordNormal.containsMatchIn(\"hello_world\")) // true\n",
    "println(wordRaw.containsMatchIn(\"hello-world\"))    // true (matches letters/digits/_)\n"
   ]
  },
  {
   "metadata": {},
   "cell_type": "code",
   "outputs": [],
   "execution_count": null,
   "source": [
    "// 3) Character classes and ranges\n",
    "// [] defines a set of characters; use - for ranges.\n",
    "val vowels = Regex(\"[aeiou]\")\n",
    "println(vowels.findAll(\"education\").count()) // number of vowel matches\n",
    "\n",
    "// Predefined classes (Java-style):\n",
    "// \\d digits, \\D non-digits, \\w word chars [A-Za-z0-9_], \\W non-word, \\s whitespace, \\S non-whitespace\n",
    "println(Regex(\"\\\\s+\").replace(\"a\\t b\\n c\", \" \")) // normalize whitespace to single spaces\n"
   ]
  },
  {
   "metadata": {},
   "cell_type": "code",
   "outputs": [],
   "execution_count": null,
   "source": [
    "// 4) Quantifiers\n",
    "// ? 0 or 1, * 0+, + 1+, {m}, {m,}, {m,n}\n",
    "println(Regex(\"colou?r\").find(\"color, colour\").let { it?.value }) // \"color\" (first match)\n",
    "println(Regex(\"colou?r\").findAll(\"color, colour\").map { it.value }.toList()) // [color, colour]\n",
    "\n",
    "println(Regex(\"a{2,4}\").findAll(\"a aa aaa aaaa aaaaa\").map { it.value }.toList()) // [aa, aaa, aaaa, aaaa]\n"
   ]
  },
  {
   "metadata": {},
   "cell_type": "code",
   "outputs": [],
   "execution_count": null,
   "source": [
    "// 5) Anchors and boundaries\n",
    "// ^ start of string, $ end of string, \\b word boundary, \\B non-boundary\n",
    "println(Regex(\"^hello\").containsMatchIn(\"hello world\")) // true\n",
    "println(Regex(\"world$\").containsMatchIn(\"hello world\")) // true\n",
    "println(Regex(\"\\\\bcat\\\\b\").containsMatchIn(\"the cat sat\")) // true\n",
    "println(Regex(\"\\\\bcat\\\\b\").containsMatchIn(\"concatenate\")) // false\n"
   ]
  },
  {
   "metadata": {},
   "cell_type": "code",
   "outputs": [],
   "execution_count": null,
   "source": [
    "// 6) Finding matches and inspecting groups\n",
    "val sku = Regex(\"(\\\\w+)-(\\\\d+)\")\n",
    "val text = \"item-123 and tool-42\"\n",
    "\n",
    "val first = sku.find(text)\n",
    "println(first?.value)              // item-123\n",
    "println(first?.groups?.get(1)?.value) // group 1: item\n",
    "println(first?.groups?.get(2)?.value) // group 2: 123\n",
    "\n",
    "// Iterate all matches\n",
    "for (m in sku.findAll(text)) {\n",
    "    println(\"${m.value} -> g1=${m.groups[1]?.value}, g2=${m.groups[2]?.value}\")\n",
    "}\n",
    "\n",
    "// Destructure captured groups conveniently\n",
    "val (name, id) = sku.find(\"gadget-9000\")!!.destructured\n",
    "println(\"name=$name id=$id\")\n"
   ]
  },
  {
   "metadata": {},
   "cell_type": "code",
   "outputs": [],
   "execution_count": null,
   "source": [
    "// 7) Named groups (Java/Kotlin support) and access\n",
    "val person = Regex(\"(?<first>[A-Z][a-z]+)\\\\s+(?<last>[A-Z][a-z]+)\")\n",
    "val pm = person.find(\"Ada Lovelace\")\n",
    "println(pm?.groups?.get(\"first\")?.value) // Ada\n",
    "println(pm?.groups?.get(\"last\")?.value)  // Lovelace\n"
   ]
  },
  {
   "metadata": {},
   "cell_type": "code",
   "outputs": [],
   "execution_count": null,
   "source": [
    "// 8) Replacing text\n",
    "val sentence = \"Contact me at john.doe@example.com or jane@example.org\"\n",
    "val email = Regex(\"[A-Za-z0-9._%+-]+@[A-Za-z0-9.-]+\\\\.[A-Za-z]{2,}\")\n",
    "\n",
    "// Replace with constant\n",
    "println(email.replace(sentence, \"<redacted>\"))\n",
    "\n",
    "// Replace with transform lambda — you can use groups to customize the output\n",
    "val masked = email.replace(sentence) { mr ->\n",
    "    val full = mr.value\n",
    "    val at = full.indexOf('@')\n",
    "    val local = full.substring(0, at)\n",
    "    val domain = full.substring(at + 1)\n",
    "    val keep = local.take(2)\n",
    "    \"$keep***@${domain}\"\n",
    "}\n",
    "println(masked)\n"
   ]
  },
  {
   "metadata": {},
   "cell_type": "code",
   "outputs": [],
   "execution_count": null,
   "source": [
    "// 9) Splitting strings with regex\n",
    "println(Regex(\"[,;\\\\s]+\").split(\"a, b; c   d\")) // [a, b, c, d]\n"
   ]
  },
  {
   "metadata": {},
   "cell_type": "code",
   "outputs": [],
   "execution_count": null,
   "source": [
    "// 10) Flags (RegexOption)\n",
    "// IGNORE_CASE, MULTILINE (^/$ match line starts/ends), DOT_MATCHES_ALL (. matches newline)\n",
    "val ci = Regex(\"hello\", setOf(RegexOption.IGNORE_CASE))\n",
    "println(ci.containsMatchIn(\"HeLLo world\")) // true\n",
    "\n",
    "val multiline = Regex(\"^\\\\w+\", setOf(RegexOption.MULTILINE))\n",
    "println(multiline.findAll(\"alpha\\nbeta\\ngamma\").map { it.value }.toList()) // [alpha, beta, gamma]\n",
    "\n",
    "val dotAll = Regex(\"a.+z\", setOf(RegexOption.DOT_MATCHES_ALL))\n",
    "println(dotAll.containsMatchIn(\"a\\n\\n\\nz\")) // true\n"
   ]
  },
  {
   "metadata": {},
   "cell_type": "code",
   "outputs": [],
   "execution_count": null,
   "source": [
    "// 11) Backreferences\n",
    "// (\\w+)\\s+\\1 means \"the same word repeated\"\n",
    "val dupWord = Regex(\"(\\\\w+)\\\\s+\\\\1\")\n",
    "println(dupWord.containsMatchIn(\"hello hello world\")) // true\n",
    "println(dupWord.containsMatchIn(\"hello world\"))       // false\n"
   ]
  },
  {
   "metadata": {},
   "cell_type": "code",
   "outputs": [],
   "execution_count": null,
   "source": [
    "// 12) Common pitfalls\n",
    "// • Remember to escape special chars like . + * ? ( ) [ ] { } | ^ $ when you mean literals.\n",
    "//   For a literal dot, use \\. or a raw string \"\"\"\\.\"\"\".\n",
    "// • Use raw strings to avoid double-escaping: Regex(\"\"\"\\\\d{4}-\\\\d{2}-\\\\d{2}\"\"\").\n",
    "// • Prefer matchEntire() or matches() when you need full-string validation.\n",
    "// • Use destructured for clean access to capture groups.\n",
    "\n",
    "// Mini validation example: ISO-like date yyyy-mm-dd\n",
    "val date = Regex(\"\"\"\\d{4}-\\d{2}-\\d{2}\"\"\")\n",
    "println(date.matches(\"2025-09-29\")) // true\n",
    "println(date.matches(\"29-09-2025\")) // false\n"
   ]
  },
  {
   "metadata": {},
   "cell_type": "code",
   "outputs": [],
   "execution_count": null,
   "source": [
    "// 13) Dynamically creating Regex at runtime\n",
    "\n",
    "// Build from variables using string templates\n",
    "val n = 3\n",
    "val exactlyNdigits = Regex(\"\"\"\\d{$n}\"\"\")\n",
    "println(exactlyNdigits.matches(\"123\"))  // true\n",
    "println(exactlyNdigits.matches(\"1234\")) // false\n",
    "\n",
    "// Using String.toRegex() — equivalent to Regex(pattern)\n",
    "val dynamic = \"\\\\w+-\\\\d+\".toRegex()\n",
    "println(dynamic.find(\"ref-42\")?.value) // ref-42\n",
    "\n",
    "// Escaping user input to make a safe literal pattern\n",
    "val userInput = \"a+b?c\"\n",
    "val safe = Regex.escape(userInput)\n",
    "val literal = Regex(safe)\n",
    "println(literal.containsMatchIn(\"xx a+b?c yy\")) // true\n",
    "\n",
    "// Building alternation from a collection (properly escaped)\n",
    "val keywords = listOf(\"C++\", \"C#\", \"Go\", \"Rust\")\n",
    "val alternation = keywords.joinToString(\"|\") { Regex.escape(it) }\n",
    "val kwRegex = Regex(\"\"\"\\b(?:$alternation)\\b\"\"\")\n",
    "println(kwRegex.findAll(\"I like Go, Rust, and C++\").map { it.value }.toList()) // [Go, Rust, C++]\n",
    "\n",
    "// Conditional flags at runtime\n",
    "fun makeWordRegex(ignoreCase: Boolean, multiline: Boolean): Regex {\n",
    "    val opts = mutableSetOf<RegexOption>()\n",
    "    if (ignoreCase) opts += RegexOption.IGNORE_CASE\n",
    "    if (multiline) opts += RegexOption.MULTILINE\n",
    "    return Regex(\"\"\"^\\w+\"\"\", opts)\n",
    "}\n",
    "println(makeWordRegex(true, true).findAll(\"Alpha\\nbeta\").map { it.value }.toList()) // [Alpha, beta]\n",
    "\n",
    "// (Optional) Caching compiled Regex objects when reused frequently\n",
    "val cache = mutableMapOf<String, Regex>()\n",
    "fun cached(pattern: String, opts: Set<RegexOption> = emptySet()): Regex =\n",
    "    cache.getOrPut(pattern + \"#\" + opts.sortedBy { it.name }.joinToString(\",\")) { Regex(pattern, opts) }\n",
    "println(cached(\"\"\"\\d+\"\"\").find(\"abc123\")?.value) // 123\n",
    "\n"
   ]
  },
  {
   "metadata": {},
   "cell_type": "code",
   "outputs": [],
   "execution_count": null,
   "source": [
    "// 14) Negation with character classes [^...]\n",
    "// Use [^...] to match any single character NOT in the set. This is different from negative lookarounds.\n",
    "\n",
    "// Match consonants by excluding vowels (ASCII example)\n",
    "val notVowel = Regex(\"[^aeiou]+\")\n",
    "println(notVowel.findAll(\"education\").map { it.value }.toList()) // [d, c, t, n]\n",
    "\n",
    "// Non-digits using class negation vs \\D\n",
    "val nonDigitsClass = Regex(\"[^0-9]+\")\n",
    "val nonDigitsShort = Regex(\"\\\\D+\")\n",
    "println(nonDigitsClass.findAll(\"a1b22c333\").map { it.value }.toList()) // [a, b, c]\n",
    "println(nonDigitsShort.findAll(\"a1b22c333\").map { it.value }.toList())  // [a, b, c]\n",
    "\n",
    "// Remove all non-letters (ASCII); note that \\W excludes underscore too, but here we keep only letters\n",
    "val nonLetters = Regex(\"[^A-Za-z]+\")\n",
    "println(nonLetters.replace(\"abc_DEF-123\", \" \")) // abc DEF \n",
    "\n",
    "// Newline-aware: match up to (but not including) newline using [^\\n]+\n",
    "val lineChunk = Regex(\"[^\\\\n]+\")\n",
    "println(lineChunk.findAll(\"alpha\\nbeta\\n\\ngamma\").map { it.value }.toList()) // [alpha, beta, , gamma]\n",
    "\n",
    "// Careful with ^ and - positions inside classes:\n",
    "// • ^ means negation only if it is the first char. To include a literal ^, place it elsewhere or escape it.\n",
    "println(Regex(\"[\\\\^_-]+\").containsMatchIn(\"^ - _\")) // true — literal ^, _, -\n",
    "// • - denotes a range unless first/last or escaped.\n",
    "println(Regex(\"[A-Z-]+\").matches(\"ABC-XYZ\")) // true\n",
    "\n",
    "// Reminder: [^...] negates single characters only.\n",
    "// To assert that a multi-character substring does NOT appear, use a negative lookahead instead:\n",
    "println(Regex(\"^(?!.*foo).*$\").matches(\"bar baz\")) // true (does not contain 'foo')\n",
    "println(Regex(\"^(?!.*foo).*$\").matches(\"bar foo baz\")) // false\n"
   ]
  }
 ],
 "metadata": {
  "kernelspec": {
   "display_name": "Kotlin",
   "language": "kotlin",
   "name": "kotlin"
  },
  "language_info": {
   "name": "kotlin",
   "version": "2.2.20-Beta2",
   "mimetype": "text/x-kotlin",
   "file_extension": ".kt",
   "pygments_lexer": "kotlin",
   "codemirror_mode": "text/x-kotlin",
   "nbconvert_exporter": ""
  }
 },
 "nbformat": 4,
 "nbformat_minor": 0
}
