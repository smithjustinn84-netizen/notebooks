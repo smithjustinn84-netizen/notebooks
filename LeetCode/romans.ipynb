{
 "cells": [
  {
   "metadata": {},
   "cell_type": "markdown",
   "source": "Roman numerals converter — cleaned implementation\n"
  },
  {
   "metadata": {},
   "cell_type": "code",
   "outputs": [],
   "execution_count": null,
   "source": [
    "fun intToRoman(num: Int): String {\n",
    "    require(num in 1..3999) { \"num must be in 1..3999\" }\n",
    "\n",
    "    val values = intArrayOf(1000, 900, 500, 400, 100, 90, 50, 40, 10, 9, 5, 4, 1)\n",
    "    val symbols = arrayOf(\"M\", \"CM\", \"D\", \"CD\", \"C\", \"XC\", \"L\", \"XL\", \"X\", \"IX\", \"V\", \"IV\", \"I\")\n",
    "\n",
    "    var n = num\n",
    "    val sb = StringBuilder()\n",
    "\n",
    "    for (i in values.indices) {\n",
    "        while (n >= values[i]) {\n",
    "            sb.append(symbols[i])\n",
    "            n -= values[i]\n",
    "        }\n",
    "        if (n == 0) break\n",
    "    }\n",
    "    return sb.toString()\n",
    "}\n"
   ]
  },
  {
   "metadata": {},
   "cell_type": "markdown",
   "source": [
    "Mapping reference:\n",
    "I 1\n",
    "V 5\n",
    "X 10\n",
    "L 50\n",
    "C 100\n",
    "D 500\n",
    "M 1000\n"
   ]
  },
  {
   "metadata": {
    "ExecuteTime": {
     "end_time": "2025-10-01T22:29:06.761665Z",
     "start_time": "2025-10-01T22:29:06.655924Z"
    }
   },
   "cell_type": "code",
   "source": [
    "println(intToRoman(1994)) // Expected: MCMXCIV\n",
    "println(intToRoman(58))   // Expected: LVIII\n",
    "println(intToRoman(4))    // Expected: IV\n",
    "println(intToRoman(3999)) // Expected: MMMCMXCIX"
   ],
   "outputs": [
    {
     "name": "stdout",
     "output_type": "stream",
     "text": [
      "MCMXCIV\n",
      "LVIII\n",
      "IV\n",
      "MMMCMXCIX\n"
     ]
    }
   ],
   "execution_count": 21
  },
  {
   "metadata": {
    "ExecuteTime": {
     "end_time": "2025-10-01T23:34:07.348585Z",
     "start_time": "2025-10-01T23:34:07.169124Z"
    }
   },
   "cell_type": "code",
   "source": [
    "fun romanToInt(s: String): Int {\n",
    "    require(s.isNotBlank()) { \"s must be non-empty\" }\n",
    "\n",
    "    val two = mapOf(\n",
    "        \"CM\" to 900, \"CD\" to 400,\n",
    "        \"XC\" to 90, \"XL\" to 40,\n",
    "        \"IX\" to 9, \"IV\" to 4\n",
    "    )\n",
    "    val one = mapOf(\n",
    "        'M' to 1000, 'D' to 500, 'C' to 100,\n",
    "        'L' to 50, 'X' to 10, 'V' to 5, 'I' to 1\n",
    "    )\n",
    "\n",
    "    val str = s.trim().uppercase()\n",
    "    var i = 0\n",
    "    var sum = 0\n",
    "\n",
    "    while (i < str.length) {\n",
    "        if (i + 1 < str.length) {\n",
    "            val pair = str.substring(i, i + 2)\n",
    "            val v2 = two[pair]\n",
    "            if (v2 != null) {\n",
    "                sum += v2\n",
    "                i += 2\n",
    "                continue\n",
    "            }\n",
    "        }\n",
    "        val ch = str[i]\n",
    "        val v1 = one[ch] ?: throw IllegalArgumentException(\"Invalid Roman numeral character: $ch\")\n",
    "        sum += v1\n",
    "        i += 1\n",
    "    }\n",
    "\n",
    "    return sum\n",
    "}"
   ],
   "outputs": [],
   "execution_count": 126
  },
  {
   "metadata": {
    "ExecuteTime": {
     "end_time": "2025-10-01T23:34:08.528794Z",
     "start_time": "2025-10-01T23:34:08.506357Z"
    }
   },
   "cell_type": "code",
   "source": "romanToInt(\"III\")\n",
   "outputs": [
    {
     "data": {
      "text/plain": [
       "3"
      ]
     },
     "execution_count": 127,
     "metadata": {},
     "output_type": "execute_result"
    }
   ],
   "execution_count": 127
  },
  {
   "metadata": {
    "ExecuteTime": {
     "end_time": "2025-10-01T23:34:09.948452Z",
     "start_time": "2025-10-01T23:34:09.900085Z"
    }
   },
   "cell_type": "code",
   "source": "romanToInt(\"IV\")",
   "outputs": [
    {
     "data": {
      "text/plain": [
       "4"
      ]
     },
     "execution_count": 128,
     "metadata": {},
     "output_type": "execute_result"
    }
   ],
   "execution_count": 128
  },
  {
   "metadata": {
    "ExecuteTime": {
     "end_time": "2025-10-01T23:34:11.229832Z",
     "start_time": "2025-10-01T23:34:11.208467Z"
    }
   },
   "cell_type": "code",
   "source": "romanToInt(\"IX\")",
   "outputs": [
    {
     "data": {
      "text/plain": [
       "9"
      ]
     },
     "execution_count": 129,
     "metadata": {},
     "output_type": "execute_result"
    }
   ],
   "execution_count": 129
  },
  {
   "metadata": {
    "ExecuteTime": {
     "end_time": "2025-10-01T23:34:12.396357Z",
     "start_time": "2025-10-01T23:34:12.376719Z"
    }
   },
   "cell_type": "code",
   "source": "romanToInt(\"LVIII\")",
   "outputs": [
    {
     "data": {
      "text/plain": [
       "58"
      ]
     },
     "execution_count": 130,
     "metadata": {},
     "output_type": "execute_result"
    }
   ],
   "execution_count": 130
  },
  {
   "metadata": {
    "ExecuteTime": {
     "end_time": "2025-10-01T23:34:13.783198Z",
     "start_time": "2025-10-01T23:34:13.764080Z"
    }
   },
   "cell_type": "code",
   "source": "romanToInt(\"MCMXCIV\")",
   "outputs": [
    {
     "data": {
      "text/plain": [
       "1994"
      ]
     },
     "execution_count": 131,
     "metadata": {},
     "output_type": "execute_result"
    }
   ],
   "execution_count": 131
  }
 ],
 "metadata": {
  "kernelspec": {
   "display_name": "Kotlin",
   "language": "kotlin",
   "name": "kotlin"
  },
  "language_info": {
   "name": "kotlin",
   "version": "2.2.20-Beta2",
   "mimetype": "text/x-kotlin",
   "file_extension": ".kt",
   "pygments_lexer": "kotlin",
   "codemirror_mode": "text/x-kotlin",
   "nbconvert_exporter": ""
  }
 },
 "nbformat": 4,
 "nbformat_minor": 0
}
