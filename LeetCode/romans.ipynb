{
 "cells": [
  {
   "metadata": {},
   "cell_type": "markdown",
   "source": "Roman numerals converter — cleaned implementation\n"
  },
  {
   "metadata": {},
   "cell_type": "code",
   "outputs": [],
   "execution_count": null,
   "source": [
    "fun intToRoman(num: Int): String {\n",
    "    require(num in 1..3999) { \"num must be in 1..3999\" }\n",
    "\n",
    "    val values = intArrayOf(1000, 900, 500, 400, 100, 90, 50, 40, 10, 9, 5, 4, 1)\n",
    "    val symbols = arrayOf(\"M\", \"CM\", \"D\", \"CD\", \"C\", \"XC\", \"L\", \"XL\", \"X\", \"IX\", \"V\", \"IV\", \"I\")\n",
    "\n",
    "    var n = num\n",
    "    val sb = StringBuilder()\n",
    "\n",
    "    for (i in values.indices) {\n",
    "        while (n >= values[i]) {\n",
    "            sb.append(symbols[i])\n",
    "            n -= values[i]\n",
    "        }\n",
    "        if (n == 0) break\n",
    "    }\n",
    "    return sb.toString()\n",
    "}\n"
   ]
  },
  {
   "metadata": {},
   "cell_type": "markdown",
   "source": [
    "Mapping reference:\n",
    "I 1\n",
    "V 5\n",
    "X 10\n",
    "L 50\n",
    "C 100\n",
    "D 500\n",
    "M 1000\n"
   ]
  },
  {
   "metadata": {
    "ExecuteTime": {
     "end_time": "2025-10-01T22:29:06.761665Z",
     "start_time": "2025-10-01T22:29:06.655924Z"
    }
   },
   "cell_type": "code",
   "source": [
    "println(intToRoman(1994)) // Expected: MCMXCIV\n",
    "println(intToRoman(58))   // Expected: LVIII\n",
    "println(intToRoman(4))    // Expected: IV\n",
    "println(intToRoman(3999)) // Expected: MMMCMXCIX"
   ],
   "outputs": [
    {
     "name": "stdout",
     "output_type": "stream",
     "text": [
      "MCMXCIV\n",
      "LVIII\n",
      "IV\n",
      "MMMCMXCIX\n"
     ]
    }
   ],
   "execution_count": 21
  },
  {
   "metadata": {
    "ExecuteTime": {
     "end_time": "2025-10-01T23:59:22.215713Z",
     "start_time": "2025-10-01T23:59:22.020492Z"
    }
   },
   "cell_type": "code",
   "source": [
    "fun romanToInt(s: String): Int {\n",
    "    require(s.isNotBlank()) { \"s must be non-empty\" }\n",
    "\n",
    "    val str = s.trim()\n",
    "    var i = 0\n",
    "    var sum = 0\n",
    "\n",
    "    fun valueOf(ch: Char): Int = when (ch) {\n",
    "        'I', 'i' -> 1\n",
    "        'V', 'v' -> 5\n",
    "        'X', 'x' -> 10\n",
    "        'L', 'l' -> 50\n",
    "        'C', 'c' -> 100\n",
    "        'D', 'd' -> 500\n",
    "        'M', 'm' -> 1000\n",
    "        else -> 0\n",
    "    }\n",
    "\n",
    "    while (i < str.length) {\n",
    "        val c = str[i]\n",
    "        val v = valueOf(c)\n",
    "        if (v == 0) throw IllegalArgumentException(\"Invalid Roman numeral character: ${str[i]}\")\n",
    "        if (i + 1 < str.length) {\n",
    "            val c2 = str[i + 1]\n",
    "            val v2 = valueOf(c2)\n",
    "            if (v2 == 0) throw IllegalArgumentException(\"Invalid Roman numeral character: ${str[i + 1]}\")\n",
    "            val subtractive = ((c == 'I' || c == 'i') && (c2 == 'V' || c2 == 'v' || c2 == 'X' || c2 == 'x')) ||\n",
    "                              ((c == 'X' || c == 'x') && (c2 == 'L' || c2 == 'l' || c2 == 'C' || c2 == 'c')) ||\n",
    "                              ((c == 'C' || c == 'c') && (c2 == 'D' || c2 == 'd' || c2 == 'M' || c2 == 'm'))\n",
    "            if (subtractive && v < v2) {\n",
    "                sum += (v2 - v)\n",
    "                i += 2\n",
    "                continue\n",
    "            }\n",
    "        }\n",
    "        sum += v\n",
    "        i += 1\n",
    "    }\n",
    "\n",
    "    return sum\n",
    "}"
   ],
   "outputs": [],
   "execution_count": 133
  },
  {
   "metadata": {
    "ExecuteTime": {
     "end_time": "2025-10-02T00:08:16.076237Z",
     "start_time": "2025-10-02T00:08:15.896772Z"
    }
   },
   "cell_type": "code",
   "source": [
    "fun romanToInt(s: String): Int {\n",
    "    var sum = 0\n",
    "    var prev = 0\n",
    "    \n",
    "    s.reversed().forEach { ch ->\n",
    "        val current = when (ch) {\n",
    "            'I' -> 1\n",
    "            'V' -> 5\n",
    "            'X' -> 10\n",
    "            'L' -> 50\n",
    "            'C' -> 100\n",
    "            'D' -> 500\n",
    "            'M' -> 1000\n",
    "            else -> 0\n",
    "        }\n",
    "        if (current < prev) {\n",
    "            sum -= current\n",
    "        } else {\n",
    "            sum += current\n",
    "        }\n",
    "        prev = current\n",
    "    }\n",
    "\n",
    "    return sum\n",
    "}"
   ],
   "outputs": [],
   "execution_count": 145
  },
  {
   "metadata": {
    "ExecuteTime": {
     "end_time": "2025-10-02T00:08:29.045870Z",
     "start_time": "2025-10-02T00:08:29.023657Z"
    }
   },
   "cell_type": "code",
   "source": "romanToInt(\"III\")\n",
   "outputs": [
    {
     "data": {
      "text/plain": [
       "3"
      ]
     },
     "execution_count": 150,
     "metadata": {},
     "output_type": "execute_result"
    }
   ],
   "execution_count": 150
  },
  {
   "metadata": {
    "ExecuteTime": {
     "end_time": "2025-10-02T00:08:30.216183Z",
     "start_time": "2025-10-02T00:08:30.196152Z"
    }
   },
   "cell_type": "code",
   "source": "romanToInt(\"IV\")",
   "outputs": [
    {
     "data": {
      "text/plain": [
       "4"
      ]
     },
     "execution_count": 151,
     "metadata": {},
     "output_type": "execute_result"
    }
   ],
   "execution_count": 151
  },
  {
   "metadata": {
    "ExecuteTime": {
     "end_time": "2025-10-02T00:08:31.370235Z",
     "start_time": "2025-10-02T00:08:31.346704Z"
    }
   },
   "cell_type": "code",
   "source": "romanToInt(\"IX\")",
   "outputs": [
    {
     "data": {
      "text/plain": [
       "9"
      ]
     },
     "execution_count": 152,
     "metadata": {},
     "output_type": "execute_result"
    }
   ],
   "execution_count": 152
  },
  {
   "metadata": {
    "ExecuteTime": {
     "end_time": "2025-10-02T00:08:32.433471Z",
     "start_time": "2025-10-02T00:08:32.406453Z"
    }
   },
   "cell_type": "code",
   "source": "romanToInt(\"LVIII\")",
   "outputs": [
    {
     "data": {
      "text/plain": [
       "58"
      ]
     },
     "execution_count": 153,
     "metadata": {},
     "output_type": "execute_result"
    }
   ],
   "execution_count": 153
  },
  {
   "metadata": {
    "ExecuteTime": {
     "end_time": "2025-10-02T00:08:33.424209Z",
     "start_time": "2025-10-02T00:08:33.402657Z"
    }
   },
   "cell_type": "code",
   "source": "romanToInt(\"MCMXCIV\")",
   "outputs": [
    {
     "data": {
      "text/plain": [
       "1994"
      ]
     },
     "execution_count": 154,
     "metadata": {},
     "output_type": "execute_result"
    }
   ],
   "execution_count": 154
  }
 ],
 "metadata": {
  "kernelspec": {
   "display_name": "Kotlin",
   "language": "kotlin",
   "name": "kotlin"
  },
  "language_info": {
   "name": "kotlin",
   "version": "2.2.20-Beta2",
   "mimetype": "text/x-kotlin",
   "file_extension": ".kt",
   "pygments_lexer": "kotlin",
   "codemirror_mode": "text/x-kotlin",
   "nbconvert_exporter": ""
  }
 },
 "nbformat": 4,
 "nbformat_minor": 0
}
