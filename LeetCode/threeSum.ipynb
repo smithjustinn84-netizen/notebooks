{
 "cells": [
  {
   "cell_type": "code",
   "metadata": {
    "collapsed": true,
    "ExecuteTime": {
     "end_time": "2025-10-02T17:01:00.627727Z",
     "start_time": "2025-10-02T17:01:00.493124Z"
    }
   },
   "source": [
    "fun threeSum(nums: IntArray): List<List<Int>> {\n",
    "    val result = mutableListOf<List<Int>>()\n",
    "    nums.sort()\n",
    "\n",
    "    for (i in 0 until nums.size - 2) {\n",
    "        var l = i + 1\n",
    "        var r = nums.size - 1\n",
    "        while (l < r) {\n",
    "            val sum = nums[i] + nums[l] + nums[r]\n",
    "            if (sum == 0) {\n",
    "                l++\n",
    "                r--\n",
    "                result.add(listOf(nums[i], nums[l], nums[r]))\n",
    "            }\n",
    "            else if (sum < 0) {\n",
    "                l++\n",
    "            } else {\n",
    "                r--\n",
    "            }\n",
    "        }\n",
    "    }\n",
    "    return result\n",
    "}"
   ],
   "outputs": [],
   "execution_count": 15
  },
  {
   "metadata": {
    "ExecuteTime": {
     "end_time": "2025-10-02T17:01:03.285543Z",
     "start_time": "2025-10-02T17:01:03.253560Z"
    }
   },
   "cell_type": "code",
   "source": "threeSum(intArrayOf(-1, 0, 1, 2, -1, -4))",
   "outputs": [
    {
     "data": {
      "text/plain": [
       "[[-1, 0, 1], [-1, 1, 0], [-1, 1, 0]]"
      ]
     },
     "execution_count": 16,
     "metadata": {},
     "output_type": "execute_result"
    }
   ],
   "execution_count": 16
  },
  {
   "metadata": {
    "ExecuteTime": {
     "end_time": "2025-10-02T17:01:04.576202Z",
     "start_time": "2025-10-02T17:01:04.524367Z"
    }
   },
   "cell_type": "code",
   "source": "threeSum(intArrayOf(0, 0, 0))",
   "outputs": [
    {
     "data": {
      "text/plain": [
       "[[0, 0, 0]]"
      ]
     },
     "execution_count": 17,
     "metadata": {},
     "output_type": "execute_result"
    }
   ],
   "execution_count": 17
  },
  {
   "metadata": {
    "ExecuteTime": {
     "end_time": "2025-10-02T17:01:05.835899Z",
     "start_time": "2025-10-02T17:01:05.800902Z"
    }
   },
   "cell_type": "code",
   "source": "threeSum(intArrayOf(-1, 0, 1, 2, -1, -4, -2, -3, 3, 0, 4))",
   "outputs": [
    {
     "data": {
      "text/plain": [
       "[[-4, 0, 3], [-4, 2, 2], [-3, -1, 3], [-3, 0, 2], [-3, 2, 1], [-2, -1, 2], [-2, 0, 1], [-1, 0, 1], [-1, 0, 0], [-1, 0, 0]]"
      ]
     },
     "execution_count": 18,
     "metadata": {},
     "output_type": "execute_result"
    }
   ],
   "execution_count": 18
  }
 ],
 "metadata": {
  "kernelspec": {
   "display_name": "Kotlin",
   "language": "kotlin",
   "name": "kotlin"
  },
  "language_info": {
   "name": "kotlin",
   "version": "2.2.20-Beta2",
   "mimetype": "text/x-kotlin",
   "file_extension": ".kt",
   "pygments_lexer": "kotlin",
   "codemirror_mode": "text/x-kotlin",
   "nbconvert_exporter": ""
  }
 },
 "nbformat": 4,
 "nbformat_minor": 0
}
