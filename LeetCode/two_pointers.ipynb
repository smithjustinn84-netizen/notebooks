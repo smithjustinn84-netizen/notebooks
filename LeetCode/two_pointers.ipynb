{
 "cells": [
  {
   "metadata": {},
   "cell_type": "markdown",
   "source": [
    "# Two-Pointer Technique (Kotlin)\n",
    "\n",
    "A practical notebook of common two-pointer patterns and problems, with concise Kotlin implementations and quick tests.\n",
    "\n",
    "The two-pointer technique uses two indices that move through a collection (often from both ends or with a slow/fast relationship) to achieve linear-time solutions to problems that might otherwise require nested loops.\n",
    "\n",
    "When to consider two pointers:\n",
    "- Input is sorted or you can sort it first\n",
    "- You need to find pairs/windows satisfying a condition\n",
    "- You need in-place array/string processing without extra memory\n",
    "\n",
    "---"
   ],
   "id": "d18297085ab8e3be"
  },
  {
   "metadata": {},
   "cell_type": "markdown",
   "source": [
    "## 1) Valid Palindrome (ignore non-alphanumerics)\n",
    "\n",
    "Given a string, determine if it is a palindrome, considering only alphanumeric characters and ignoring cases.\n",
    "\n",
    "Approach: Use two pointers from both ends, skip non-alphanumeric chars, compare case-insensitively."
   ],
   "id": "7f23dc84030a6092"
  },
  {
   "metadata": {
    "jupyter": {
     "is_executing": true
    }
   },
   "cell_type": "code",
   "source": [
    "fun isAlphaNum(c: Char): Boolean = c.isLetterOrDigit()\n",
    "\n",
    "fun isPalindromeString(s: String): Boolean {\n",
    "    var l = 0\n",
    "    var r = s.lastIndex\n",
    "    while (l < r) {\n",
    "        while (l < r && !isAlphaNum(s[l])) l++\n",
    "        while (l < r && !isAlphaNum(s[r])) r--\n",
    "        if (l < r) {\n",
    "            if (s[l].lowercaseChar() != s[r].lowercaseChar()) return false\n",
    "            l++\n",
    "            r--\n",
    "        }\n",
    "    }\n",
    "    return true\n",
    "}"
   ],
   "id": "a093592c109443e8",
   "outputs": [],
   "execution_count": null
  },
  {
   "metadata": {},
   "cell_type": "code",
   "outputs": [],
   "execution_count": null,
   "source": [
    "listOf(\n",
    "    \"A man, a plan, a canal: Panama\" to true,\n",
    "    \"race a car\" to false,\n",
    "    \"\" to true,\n",
    "    \"a.\" to true,\n",
    "    \"0P\" to false,\n",
    ").forEach { (input, expected) ->\n",
    "    val got = isPalindromeString(input)\n",
    "    println(\"[${if (got == expected) \".\" else \"X\"}] isPalindromeString('$input') -> $got (expected $expected)\")\n",
    "}"
   ],
   "id": "50c8ce0b414228c5"
  },
  {
   "metadata": {},
   "cell_type": "markdown",
   "source": [
    "## 2) Two Sum II (Input array is sorted)\n",
    "\n",
    "Find two numbers such that they add up to a specific target. Return 1-based indices. Assume exactly one solution exists.\n",
    "\n",
    "Approach: Two pointers moving inward based on sum comparison."
   ],
   "id": "dee16ad3d075723a"
  },
  {
   "metadata": {},
   "cell_type": "code",
   "outputs": [],
   "execution_count": null,
   "source": [
    "fun twoSumSorted(numbers: IntArray, target: Int): IntArray {\n",
    "    var l = 0\n",
    "    var r = numbers.lastIndex\n",
    "    while (l < r) {\n",
    "        val sum = numbers[l] + numbers[r]\n",
    "        when {\n",
    "            sum == target -> return intArrayOf(l + 1, r + 1)\n",
    "            sum < target -> l++\n",
    "            else -> r--\n",
    "        }\n",
    "    }\n",
    "    return intArrayOf(-1, -1) // should not happen if guaranteed one solution\n",
    "}"
   ],
   "id": "7d81a07c9f1cac80"
  },
  {
   "metadata": {},
   "cell_type": "code",
   "outputs": [],
   "execution_count": null,
   "source": [
    "run {\n",
    "    val nums = intArrayOf(2, 7, 11, 15)\n",
    "    val target = 9\n",
    "    val ans = twoSumSorted(nums, target)\n",
    "    println(\"twoSumSorted -> [${ans.joinToString()}], expected [1, 2]\")\n",
    "}\n",
    "run {\n",
    "    val nums = intArrayOf(1, 2, 3, 4, 4, 9, 56, 90)\n",
    "    val target = 8\n",
    "    val ans = twoSumSorted(nums, target)\n",
    "    println(\"twoSumSorted -> [${ans.joinToString()}], expected [4, 5]\")\n",
    "}"
   ],
   "id": "30ac4a9f3f002315"
  },
  {
   "metadata": {},
   "cell_type": "markdown",
   "source": [
    "## 3) Container With Most Water\n",
    "\n",
    "Given an array of heights, find the max area of water a container can store.\n",
    "\n",
    "Approach: Two pointers at ends; move the shorter pointer inward to potentially find a taller line that yields a bigger area."
   ],
   "id": "ef87589b0e2fd2e5"
  },
  {
   "metadata": {},
   "cell_type": "code",
   "outputs": [],
   "execution_count": null,
   "source": [
    "fun maxArea(height: IntArray): Int {\n",
    "    var l = 0\n",
    "    var r = height.lastIndex\n",
    "    var best = 0\n",
    "    while (l < r) {\n",
    "        val h = minOf(height[l], height[r])\n",
    "        val area = h * (r - l)\n",
    "        if (area > best) best = area\n",
    "        if (height[l] < height[r]) l++ else r--\n",
    "    }\n",
    "    return best\n",
    "}"
   ],
   "id": "42a0dd7893692452"
  },
  {
   "metadata": {},
   "cell_type": "code",
   "outputs": [],
   "execution_count": null,
   "source": [
    "run {\n",
    "    val heights = intArrayOf(1,8,6,2,5,4,8,3,7)\n",
    "    println(\"maxArea -> ${maxArea(heights)} (expected 49)\")\n",
    "}\n",
    "run {\n",
    "    val heights = intArrayOf(1,1)\n",
    "    println(\"maxArea -> ${maxArea(heights)} (expected 1)\")\n",
    "}"
   ],
   "id": "6c912a12ee33cada"
  },
  {
   "metadata": {},
   "cell_type": "markdown",
   "source": [
    "## 4) Remove Duplicates from Sorted Array (in-place)\n",
    "\n",
    "Return the length of the array after removing duplicates in-place; the first k elements should hold the unique values.\n",
    "\n",
    "Approach: Slow/fast pointers: slow marks the spot to write the next unique element; fast scans for new unique values."
   ],
   "id": "6875c5f69a265126"
  },
  {
   "metadata": {},
   "cell_type": "code",
   "outputs": [],
   "execution_count": null,
   "source": [
    "fun removeDuplicates(nums: IntArray): Int {\n",
    "    if (nums.isEmpty()) return 0\n",
    "    var slow = 1\n",
    "    for (fast in 1 until nums.size) {\n",
    "        if (nums[fast] != nums[fast - 1]) {\n",
    "            nums[slow] = nums[fast]\n",
    "            slow++\n",
    "        }\n",
    "    }\n",
    "    return slow\n",
    "}"
   ],
   "id": "a8d33a7d10028c26"
  },
  {
   "metadata": {},
   "cell_type": "code",
   "outputs": [],
   "execution_count": null,
   "source": [
    "run {\n",
    "    val nums = intArrayOf(0,0,1,1,1,2,2,3,3,4)\n",
    "    val k = removeDuplicates(nums)\n",
    "    println(\"k=$k, first k elements = [${nums.copyOf(k).joinToString()}], expected k=6 and [0,1,2,3,4]\")\n",
    "}\n",
    "run {\n",
    "    val nums = intArrayOf(1,1,2)\n",
    "    val k = removeDuplicates(nums)\n",
    "    println(\"k=$k, first k elements = [${nums.copyOf(k).joinToString()}], expected k=2 and [1,2]\")\n",
    "}"
   ],
   "id": "6663b7eece636e6f"
  },
  {
   "metadata": {},
   "cell_type": "markdown",
   "source": [
    "## 5) Squares of a Sorted Array\n",
    "\n",
    "Return an array of the squares of each number sorted in non-decreasing order.\n",
    "\n",
    "Approach: Two pointers from ends; fill result from the back with the larger absolute value squared."
   ],
   "id": "85417a2fa8fbe542"
  },
  {
   "metadata": {},
   "cell_type": "code",
   "outputs": [],
   "execution_count": null,
   "source": [
    "fun sortedSquares(nums: IntArray): IntArray {\n",
    "    val n = nums.size\n",
    "    val res = IntArray(n)\n",
    "    var l = 0\n",
    "    var r = n - 1\n",
    "    var write = n - 1\n",
    "    while (l <= r) {\n",
    "        val left = nums[l] * nums[l]\n",
    "        val right = nums[r] * nums[r]\n",
    "        if (left > right) {\n",
    "            res[write] = left\n",
    "            l++\n",
    "        } else {\n",
    "            res[write] = right\n",
    "            r--\n",
    "        }\n",
    "        write--\n",
    "    }\n",
    "    return res\n",
    "}"
   ],
   "id": "4c356e3ca7975e5b"
  },
  {
   "metadata": {},
   "cell_type": "code",
   "outputs": [],
   "execution_count": null,
   "source": [
    "run {\n",
    "    val nums = intArrayOf(-4,-1,0,3,10)\n",
    "    println(\"sortedSquares -> [${sortedSquares(nums).joinToString()}], expected [0,1,9,16,100]\")\n",
    "}\n",
    "run {\n",
    "    val nums = intArrayOf(-7,-3,2,3,11)\n",
    "    println(\"sortedSquares -> [${sortedSquares(nums).joinToString()}], expected [4,9,9,49,121]\")\n",
    "}"
   ],
   "id": "45751d3b6719157"
  },
  {
   "metadata": {},
   "cell_type": "markdown",
   "source": [
    "---\n",
    "\n",
    "This notebook covered several core two-pointer patterns:\n",
    "- Opposite ends pointers for matching or maximizing/minimizing metrics\n",
    "- Slow/fast pointers for in-place compaction\n",
    "- Decision heuristics for which pointer to move to keep time complexity linear\n",
    "\n",
    "Feel free to add more variants like:\n",
    "- Move Zeroes (stable compaction)\n",
    "- Reverse Vowels of a String\n",
    "- 3Sum (after sorting, with inner two-pointer)\n"
   ],
   "id": "52d4c9776ce64dd2"
  }
 ],
 "metadata": {},
 "nbformat": 4,
 "nbformat_minor": 5
}
