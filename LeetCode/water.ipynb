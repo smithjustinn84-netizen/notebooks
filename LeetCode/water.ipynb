{
 "cells": [
  {
   "cell_type": "code",
   "metadata": {
    "collapsed": true,
    "ExecuteTime": {
     "end_time": "2025-10-01T21:21:09.836968Z",
     "start_time": "2025-10-01T21:21:09.735653Z"
    }
   },
   "source": [
    "/**\n",
    " * Container With Most Water (LeetCode 11).\n",
    " *\n",
    " * Uses a two-pointer strategy to find the maximum area in O(n) time and O(1) space.\n",
    " * - Moves the pointer with the smaller height inward each step.\n",
    " * - Requires at least two heights to form a container.\n",
    " */\n",
    "fun maxArea(height: IntArray): Int {\n",
    "    var l = 0\n",
    "    var r = height.lastIndex\n",
    "    var best = 0\n",
    "    while (l < r) {\n",
    "        val h = minOf(height[l], height[r])\n",
    "        val area = h * (r - l)\n",
    "        if (area > best) best = area\n",
    "        if (height[l] < height[r]) l++ else r--\n",
    "    }\n",
    "    return best\n",
    "}"
   ],
   "outputs": [],
   "execution_count": 19
  },
  {
   "metadata": {},
   "cell_type": "markdown",
   "source": ""
  },
  {
   "metadata": {
    "ExecuteTime": {
     "end_time": "2025-10-01T21:21:19.958250Z",
     "start_time": "2025-10-01T21:21:19.887388Z"
    }
   },
   "cell_type": "code",
   "source": [
    "mapOf(\n",
    "    intArrayOf(1,8,6,2,5,4,8,3,7) to 49,\n",
    "    intArrayOf(1,1) to 1,\n",
    "    intArrayOf(4,3,2,1,4) to 16,\n",
    "    intArrayOf(1,2,1) to 2\n",
    ").forEach { (input, expected) ->\n",
    "    val actual = maxArea(input)\n",
    "    val pass = actual == expected\n",
    "    val status = if (pass) \"PASS\" else \"FAIL\"\n",
    "    println(\"$status | input=${input.toList()} expected=$expected actual=$actual\")\n",
    "}"
   ],
   "outputs": [
    {
     "name": "stdout",
     "output_type": "stream",
     "text": [
      "PASS | input=[1, 8, 6, 2, 5, 4, 8, 3, 7] expected=49 actual=49\n",
      "PASS | input=[1, 1] expected=1 actual=1\n",
      "PASS | input=[4, 3, 2, 1, 4] expected=16 actual=16\n",
      "PASS | input=[1, 2, 1] expected=2 actual=2\n"
     ]
    }
   ],
   "execution_count": 24
  }
 ],
 "metadata": {
  "kernelspec": {
   "display_name": "Kotlin",
   "language": "kotlin",
   "name": "kotlin"
  },
  "language_info": {
   "name": "kotlin",
   "version": "2.2.20-Beta2",
   "mimetype": "text/x-kotlin",
   "file_extension": ".kt",
   "pygments_lexer": "kotlin",
   "codemirror_mode": "text/x-kotlin",
   "nbconvert_exporter": ""
  }
 },
 "nbformat": 4,
 "nbformat_minor": 0
}
