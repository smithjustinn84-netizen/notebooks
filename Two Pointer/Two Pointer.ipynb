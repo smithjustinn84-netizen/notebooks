{
 "cells": [
  {
   "cell_type": "code",
   "metadata": {
    "collapsed": true,
    "ExecuteTime": {
     "end_time": "2025-10-08T18:15:45.091261Z",
     "start_time": "2025-10-08T18:15:45.033327Z"
    }
   },
   "source": [
    "val nums = intArrayOf(2, 7, 11, 15)\n",
    "\n",
    "fun <T> basicTwoPointer(list: List<T>, compare: (Int, Int) -> Boolean, block: (Int, Int) -> Unit) {\n",
    "    for (i in 0 until list.size) {\n",
    "        for (j in i + 1 until list.size) {\n",
    "            if (compare(i, j)) {\n",
    "                block(i, j)\n",
    "                return\n",
    "            }\n",
    "        }\n",
    "    }\n",
    "}"
   ],
   "outputs": [],
   "execution_count": 10
  },
  {
   "metadata": {},
   "cell_type": "markdown",
   "source": [
    "if sorted prediction:\n",
    "\n",
    "```python\n",
    "if nums[i] == 2, then nums[i + 1] >= 2\n",
    "```\n",
    "\n",
    "Two Pointers\n",
    "\n",
    "Inward Transversal:\n",
    "\n",
    "- Pair Sum\n",
    "- Triple Sum\n",
    "- Largest Container\n",
    "- Is Palindrome Valid\n",
    "\n",
    "Unidirectional Transversal:\n",
    "\n",
    "- Shift Zeros to the End\n",
    "\n",
    "Staged Transversal:\n",
    "\n",
    "- Next Lexicographical Sequence\n",
    "\n"
   ]
  },
  {
   "metadata": {},
   "cell_type": "markdown",
   "source": "# Pair Sum"
  },
  {
   "metadata": {
    "ExecuteTime": {
     "end_time": "2025-10-08T18:21:41.299464Z",
     "start_time": "2025-10-08T18:21:41.202799Z"
    }
   },
   "cell_type": "code",
   "source": [
    "mapOf(\n",
    "    (listOf(-5, -2, 3, 4, 6) to 7) to listOf(2, 3),\n",
    "    (listOf(1, 1, 1) to 2) to listOf(0, 1)\n",
    ").forEach { (input, output) ->\n",
    "    basicTwoPointer(input.first, { i, j -> input.first[i] + input.first[j] == input.second }) { i, j ->\n",
    "        println(listOf(i, j) == output)\n",
    "     }\n",
    "}"
   ],
   "outputs": [
    {
     "name": "stdout",
     "output_type": "stream",
     "text": [
      "true\n",
      "true\n"
     ]
    }
   ],
   "execution_count": 17
  },
  {
   "metadata": {
    "ExecuteTime": {
     "end_time": "2025-10-08T18:30:01.314899Z",
     "start_time": "2025-10-08T18:30:01.258130Z"
    }
   },
   "cell_type": "code",
   "source": [
    "fun inwardTransversal(list: List<Int>, target: Int): List<Int> {\n",
    "    var left = 0\n",
    "    var right = list.size - 1\n",
    "    while (left < right) {\n",
    "        val sum = list[left] + list[right]\n",
    "        when {\n",
    "            sum == target -> return listOf(left, right)\n",
    "            sum < target -> left++\n",
    "            sum > target -> right--\n",
    "        }\n",
    "    }\n",
    "    return emptyList<Int>()\n",
    "}"
   ],
   "outputs": [],
   "execution_count": 19
  },
  {
   "metadata": {
    "ExecuteTime": {
     "end_time": "2025-10-08T18:38:59.763240Z",
     "start_time": "2025-10-08T18:38:59.677171Z"
    }
   },
   "cell_type": "code",
   "source": [
    "mapOf(\n",
    "    (emptyList<Int>() to 0) to emptyList<Int>(),\n",
    "    (listOf(-5, -2, 3, 4, 6) to 7) to listOf(2, 3),\n",
    "    (listOf(1, 1, 1) to 2) to listOf(0, 2)\n",
    ").forEach { (input, output) ->\n",
    "    println(inwardTransversal(input.first, input.second))\n",
    "    println(output == inwardTransversal(input.first, input.second))\n",
    "}"
   ],
   "outputs": [
    {
     "name": "stdout",
     "output_type": "stream",
     "text": [
      "[]\n",
      "true\n",
      "[2, 3]\n",
      "true\n",
      "[0, 2]\n",
      "true\n"
     ]
    }
   ],
   "execution_count": 27
  },
  {
   "metadata": {},
   "cell_type": "markdown",
   "source": "# Triple Sum"
  },
  {
   "metadata": {},
   "cell_type": "code",
   "outputs": [],
   "execution_count": null,
   "source": [
    "val nums = intArrayOf(0, -1, 2, -3, 1)\n",
    "val output = listOf(listOf(-3, 1, 1), listOf(-1, 0, 1))\n",
    "\n",
    "fun tripleSum(nums: IntArray): List<List<Int>> {\n",
    "    nums.sort()\n",
    "    val triple = mutableListOf<List<Int>>()\n",
    "    for (i in 0 until nums.size - 2) {\n",
    "        if (i > 0) continue\n",
    "        if (i > 0 && nums[i] == nums[i - 1]) continue\n",
    "        var left = i + 1\n",
    "        var right = nums.size - 1\n",
    "\n",
    "    }\n",
    "    return triple\n",
    "}\n",
    "\n",
    "\n",
    "\n"
   ]
  },
  {
   "metadata": {},
   "cell_type": "markdown",
   "source": "# Palindrome"
  },
  {
   "metadata": {
    "ExecuteTime": {
     "end_time": "2025-10-08T19:21:53.382823Z",
     "start_time": "2025-10-08T19:21:53.237438Z"
    }
   },
   "cell_type": "code",
   "source": [
    "fun isPalindromeValid(s: String): Boolean {\n",
    "    var left = 0\n",
    "    var right = s.length - 1\n",
    "    while (left < right) {\n",
    "        while (left < right && !s[left].isLetterOrDigit()) left++\n",
    "        while (left < right && !s[right].isLetterOrDigit()) right--\n",
    "        if (left < right && !s[left].equals(s[right], ignoreCase = true)) return false\n",
    "        left++\n",
    "        right--\n",
    "    }\n",
    "    return true\n",
    "}"
   ],
   "outputs": [],
   "execution_count": 28
  },
  {
   "metadata": {
    "ExecuteTime": {
     "end_time": "2025-10-08T19:21:54.617100Z",
     "start_time": "2025-10-08T19:21:54.580357Z"
    }
   },
   "cell_type": "code",
   "source": "isPalindromeValid(\"A man, a plan, a canal: Panama\")",
   "outputs": [
    {
     "data": {
      "text/plain": [
       "true"
      ]
     },
     "execution_count": 29,
     "metadata": {},
     "output_type": "execute_result"
    }
   ],
   "execution_count": 29
  },
  {
   "metadata": {
    "ExecuteTime": {
     "end_time": "2025-10-08T19:23:46.841788Z",
     "start_time": "2025-10-08T19:23:46.807167Z"
    }
   },
   "cell_type": "code",
   "source": "isPalindromeValid(\"race a car\")",
   "outputs": [
    {
     "data": {
      "text/plain": [
       "false"
      ]
     },
     "execution_count": 30,
     "metadata": {},
     "output_type": "execute_result"
    }
   ],
   "execution_count": 30
  },
  {
   "metadata": {},
   "cell_type": "markdown",
   "source": "# Largest Container"
  },
  {
   "metadata": {
    "ExecuteTime": {
     "end_time": "2025-10-08T19:45:35.078088Z",
     "start_time": "2025-10-08T19:45:34.915332Z"
    }
   },
   "cell_type": "code",
   "source": [
    "fun largestContainer(heights: List<Int>): Int {\n",
    "    var maxArea = 0\n",
    "    var left = 0\n",
    "    var right = heights.size - 1\n",
    "    while (left < right) {\n",
    "        val area = minOf(heights[left], heights[right]) * (right - left)\n",
    "        maxArea = maxOf(maxArea, area)\n",
    "        if (heights[left] == heights[right]) {\n",
    "            left++\n",
    "            right--\n",
    "        } else if (heights[left] < heights[right]) left++ else right--\n",
    "    }\n",
    "    return maxArea\n",
    "}"
   ],
   "outputs": [],
   "execution_count": 31
  },
  {
   "metadata": {
    "ExecuteTime": {
     "end_time": "2025-10-08T19:45:51.387565Z",
     "start_time": "2025-10-08T19:45:51.347130Z"
    }
   },
   "cell_type": "code",
   "source": "largestContainer(listOf(1, 8, 6, 2, 5, 4, 8, 3, 7))",
   "outputs": [
    {
     "data": {
      "text/plain": [
       "49"
      ]
     },
     "execution_count": 32,
     "metadata": {},
     "output_type": "execute_result"
    }
   ],
   "execution_count": 32
  },
  {
   "metadata": {
    "ExecuteTime": {
     "end_time": "2025-10-08T19:50:36.665656Z",
     "start_time": "2025-10-08T19:50:36.570868Z"
    }
   },
   "cell_type": "code",
   "source": [
    "mapOf(\n",
    "    listOf<Int>() to 0,\n",
    "    listOf(1) to 0,\n",
    "    listOf(0, 1, 0) to 0,\n",
    "    listOf(1, 1, 1) to 2,\n",
    "    listOf(1, 2, 3) to 2,\n",
    "    listOf(1, 2, 3, 4) to 4,\n",
    "    listOf(3, 3, 3, 3) to 9,\n",
    "    listOf(3, 2, 1) to 2\n",
    ").map {\n",
    "    largestContainer(it.key) to it.value\n",
    " }"
   ],
   "outputs": [
    {
     "data": {
      "text/plain": [
       "[(0, 0), (0, 0), (0, 0), (2, 2), (2, 2), (4, 4), (9, 9), (2, 2)]"
      ]
     },
     "execution_count": 35,
     "metadata": {},
     "output_type": "execute_result"
    }
   ],
   "execution_count": 35
  }
 ],
 "metadata": {
  "kernelspec": {
   "display_name": "Kotlin",
   "language": "kotlin",
   "name": "kotlin"
  },
  "language_info": {
   "name": "kotlin",
   "version": "2.2.20-Beta2",
   "mimetype": "text/x-kotlin",
   "file_extension": ".kt",
   "pygments_lexer": "kotlin",
   "codemirror_mode": "text/x-kotlin",
   "nbconvert_exporter": ""
  }
 },
 "nbformat": 4,
 "nbformat_minor": 0
}
